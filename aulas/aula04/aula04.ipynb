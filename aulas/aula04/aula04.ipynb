{
  "nbformat": 4,
  "nbformat_minor": 0,
  "metadata": {
    "colab": {
      "name": "aula04.ipynb",
      "provenance": [],
      "collapsed_sections": []
    },
    "kernelspec": {
      "name": "python3",
      "display_name": "Python 3"
    },
    "language_info": {
      "name": "python"
    }
  },
  "cells": [
    {
      "cell_type": "markdown",
      "source": [
        "## While\n",
        "### Laço de Remetição -> Estrutura de Repetição -> Loop -> Malha de Repetição"
      ],
      "metadata": {
        "id": "vL0mCI89lOe5"
      }
    },
    {
      "cell_type": "markdown",
      "source": [
        "## while(condição):\n",
        "  #### Faça\n"
      ],
      "metadata": {
        "id": "iZkudlHbldVP"
      }
    },
    {
      "cell_type": "code",
      "source": [
        "#for variavel in range(10):\n",
        "\n",
        "# while(testeLogico): -> contador <= Numero // variavel -> True\n",
        "\n",
        "contador = 0\n",
        "while(contador < 10):\n",
        "  print(\"Repetição\")\n",
        "  contador += 1\n"
      ],
      "metadata": {
        "colab": {
          "base_uri": "https://localhost:8080/"
        },
        "id": "F7iI8PfAlj_8",
        "outputId": "cb3d2242-e37e-4b5f-b12e-2a74b25276dc"
      },
      "execution_count": null,
      "outputs": [
        {
          "output_type": "stream",
          "name": "stdout",
          "text": [
            "Repetição\n",
            "Repetição\n",
            "Repetição\n",
            "Repetição\n",
            "Repetição\n",
            "Repetição\n",
            "Repetição\n",
            "Repetição\n",
            "Repetição\n",
            "Repetição\n"
          ]
        }
      ]
    },
    {
      "cell_type": "code",
      "source": [
        "continuar =  True\n",
        "while(continuar):\n",
        "  menu = int(input(\"**** MENU **** \\n 1 - Continuar \\n 2 - Sair \\n R \"))\n",
        "  if(menu == 2):\n",
        "    continuar = False\n",
        "\n"
      ],
      "metadata": {
        "colab": {
          "base_uri": "https://localhost:8080/"
        },
        "id": "GiACGb-BmIed",
        "outputId": "67f1ee70-d906-4407-aeca-778ad686ee0b"
      },
      "execution_count": null,
      "outputs": [
        {
          "name": "stdout",
          "output_type": "stream",
          "text": [
            "**** MENU **** \n",
            " 1 - Continuar \n",
            " 2 - Sair \n",
            " R 3\n"
          ]
        }
      ]
    },
    {
      "cell_type": "code",
      "source": [
        "# Faça um programa que peça uma nota, entre zero e dez. Mostre uma mensagem caso o valor seja inválido \n",
        "# e continue pedindo até que o usuário informe um valor válido.\n",
        "\n",
        "nota = True\n",
        "num = -1\n",
        "while(num < 0 or num > 10):\n",
        "  num = int(input('Digite um numero: '))\n",
        "  \n",
        "      \n",
        "\n",
        "\n",
        "\n",
        "\n"
      ],
      "metadata": {
        "colab": {
          "base_uri": "https://localhost:8080/"
        },
        "id": "texQVxbSn98l",
        "outputId": "3f13821f-398a-42ab-f914-ac0ad02cf347"
      },
      "execution_count": null,
      "outputs": [
        {
          "name": "stdout",
          "output_type": "stream",
          "text": [
            "Digite um numero: 90\n",
            "Digite um numero: 50\n",
            "Digite um numero: 5\n"
          ]
        }
      ]
    },
    {
      "cell_type": "code",
      "source": [
        "# Faça um programa que leia um nome de usuário e a sua senha e não aceite a senha igual ao nome do usuário, \n",
        "# mostrando uma mensagem de erro e voltando a pedir as informações.\n",
        "\n",
        "\n",
        "continuar = True\n",
        "while(continuar):\n",
        "  usuario = input('Digite seu USUARIO: ')\n",
        "  senha = input('Digite a sua SENHA: ')\n",
        "  if(usuario != senha):\n",
        "     continuar = False\n",
        "  else:\n",
        "    print('O USUARIO e a SENHA devem ser DIFERENTES')"
      ],
      "metadata": {
        "colab": {
          "base_uri": "https://localhost:8080/"
        },
        "id": "4q11TdzIrqCc",
        "outputId": "0b012136-2409-4b96-8b2c-36ead5faf6f3"
      },
      "execution_count": null,
      "outputs": [
        {
          "name": "stdout",
          "output_type": "stream",
          "text": [
            "Digite seu USUARIO: at123\n",
            "Digite a sua SENHA: at123\n",
            "O USUARIO e a SENHA devem ser DIFERENTES\n",
            "Digite seu USUARIO: Attttt\n",
            "Digite a sua SENHA: 12345\n"
          ]
        }
      ]
    },
    {
      "cell_type": "code",
      "source": [
        "# Desenvolva um calculadora com menu para selecionar o tipo de \n",
        "# conta adicão, subtracão, multiplicacão e divisão \n",
        "\n",
        "\n",
        "continuar = True\n",
        "while(continuar):\n",
        "  menu = input(\"**** CALCULADORA **** \\n 1 - Adição \\n 2 - Subtração \\n 3 - Multiplicação \\n 4 - Divisão \\n Digite outro valor para sair \\n\")\n",
        "  if(menu.isnumeric()):\n",
        "    menu = int(menu)\n",
        "    if(menu > 0 and menu < 5):\n",
        "      num1 = int(input(\"Digite o número: \"))\n",
        "      num2 = int(input(\"Digite outro numero: \"))\n",
        "      if(menu == 1):\n",
        "        print(num1 + num2)\n",
        "      elif(menu == 2):\n",
        "        print(num1 - num2)\n",
        "      elif(menu == 3 ):\n",
        "        print(num1 * num2)\n",
        "      elif(menu == 4):\n",
        "        print(num1 / num2)\n",
        "    else:\n",
        "      continuar = False\n",
        "  else:\n",
        "    continuar = False\n",
        "\n"
      ],
      "metadata": {
        "colab": {
          "base_uri": "https://localhost:8080/"
        },
        "id": "ugTApI1ytD1S",
        "outputId": "b17264d9-1ccf-4d69-dd71-6acd5e69f94e"
      },
      "execution_count": null,
      "outputs": [
        {
          "name": "stdout",
          "output_type": "stream",
          "text": [
            "**** CALCULADORA **** \n",
            " 1 - Adição \n",
            " 2 - Subtração \n",
            " 3 - Multiplicação \n",
            " 4 - Divisão \n",
            " Digite outro valor para sair \n",
            "3\n",
            "Digite o número: 8\n",
            "Digite outro numero: 6\n",
            "48\n",
            "**** CALCULADORA **** \n",
            " 1 - Adição \n",
            " 2 - Subtração \n",
            " 3 - Multiplicação \n",
            " 4 - Divisão \n",
            " Digite outro valor para sair \n",
            "Sair\n"
          ]
        }
      ]
    },
    {
      "cell_type": "code",
      "source": [
        "# Faça um programa que leia 5 números e informe a soma e a média dos números.\n",
        "soma = 0\n",
        "contador = 0\n",
        "while(contador < 5):\n",
        "  num = int(input('Digite um numero: '))\n",
        "  soma += num\n",
        "  contador += 1 # contador = contador + 1\n",
        "print(\"Total\", soma)\n",
        "print(\"Média\", soma / contador)"
      ],
      "metadata": {
        "colab": {
          "base_uri": "https://localhost:8080/"
        },
        "id": "aO1Q-tGZwYf2",
        "outputId": "2868df34-a371-49d5-9e1b-16825c0de496"
      },
      "execution_count": null,
      "outputs": [
        {
          "output_type": "stream",
          "name": "stdout",
          "text": [
            "Digite um numero: 15\n",
            "Digite um numero: -45\n",
            "Digite um numero: 31\n",
            "Digite um numero: 20\n",
            "Digite um numero: 4\n",
            "Total 25\n",
            "Média 5.0\n"
          ]
        }
      ]
    },
    {
      "cell_type": "code",
      "source": [
        "# Faca um jogo da sorte que guarde um número (0 - 99) e peca para o usuario \n",
        "# tentar acertar o numero, exiba se errou pra mais ou menos\n",
        "\n",
        "from random import randint\n",
        "\n",
        "segredo = randint(0, 99)\n",
        "continuar = True\n",
        "contador = 1\n",
        "while(continuar):\n",
        "  chute = int(input(\"Digite um valor entre 0 e 99\\n\"))\n",
        "  if(chute == segredo):\n",
        "    print(\"Você acertou, Miseravi! \", segredo)\n",
        "    print(\"Você usou {} chances! \" .format(contador))\n",
        "    continuar = False\n",
        "  elif(chute > segredo):\n",
        "    print(\"Menos\")\n",
        "  else:\n",
        "    print(\"Mais\")\n",
        "  contador += 1 "
      ],
      "metadata": {
        "colab": {
          "base_uri": "https://localhost:8080/"
        },
        "id": "h5nMz-Uixx2Y",
        "outputId": "f7a4a976-a38d-4ecd-c13e-8108b70dc6f3"
      },
      "execution_count": null,
      "outputs": [
        {
          "output_type": "stream",
          "name": "stdout",
          "text": [
            "Digite um valor entre 0 e 99\n",
            "50\n",
            "Mais\n",
            "Digite um valor entre 0 e 99\n",
            "80\n",
            "Mais\n",
            "Digite um valor entre 0 e 99\n",
            "90\n",
            "Menos\n",
            "Digite um valor entre 0 e 99\n",
            "85\n",
            "Mais\n",
            "Digite um valor entre 0 e 99\n",
            "86\n",
            "Mais\n",
            "Digite um valor entre 0 e 99\n",
            "87\n",
            "Você acertou, Miseravi!  87\n",
            "Você usou 6 chances! \n"
          ]
        }
      ]
    },
    {
      "cell_type": "code",
      "source": [
        "\n",
        "from random import randint\n",
        "\n",
        "##         0       1      2      3        4\n",
        "lista = [\"nome\", \"edu\", \"flu\", \"huas0\", \"asd\"]\n",
        "\n",
        "print(lista[randint(0, 4)])"
      ],
      "metadata": {
        "colab": {
          "base_uri": "https://localhost:8080/"
        },
        "id": "SWFQg7hy0uoT",
        "outputId": "4303becf-b988-45c6-c42d-70134e7bec10"
      },
      "execution_count": null,
      "outputs": [
        {
          "output_type": "stream",
          "name": "stdout",
          "text": [
            "edu\n"
          ]
        }
      ]
    },
    {
      "cell_type": "markdown",
      "source": [
        "## Exercício\n",
        "### Faça um programa que leia n funcionários de uma empresa e receba Nome, Idade, salario e tempo de trabalho\n",
        "#### Exiba: \n",
        "1. o Salário ajustado \n",
        "    1. Se salário maior que R$ 2150, aumento de 10%\n",
        "    2. Se salário menor que R$ 950, aumento de 20%\n",
        "    3. Se salário menor que R$ 2150 e maior R$ 950, aumento de 13%\n",
        "2. Idade \n",
        "3. Quanto tempo falta para se aposentar, se ja puder se aposentar, exiba que ja pode se aposentar\n",
        "    1. A soma da idade com o tempo de trabalho tem que ser > 70 anos ao total\n",
        "4. Nome do funcionário\n",
        "\n",
        "#### Exemplo \n",
        "- Jorge, 25 anos\n",
        "- Salário Atual: R$ 0000\n",
        "- Salário Ajustado: R$ 0000\n",
        "- Faltam 20 anos para se aposentar\n",
        "\n",
        "obs. O RH da empresa deverá encerrar o programa quando desejar"
      ],
      "metadata": {
        "id": "tuTDUlcK0Tck"
      }
    },
    {
      "cell_type": "code",
      "source": [
        ""
      ],
      "metadata": {
        "id": "HpchUlcS0T_W"
      },
      "execution_count": null,
      "outputs": []
    }
  ]
}