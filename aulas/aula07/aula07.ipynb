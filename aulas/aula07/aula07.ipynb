{
  "nbformat": 4,
  "nbformat_minor": 0,
  "metadata": {
    "colab": {
      "name": "Untitled1.ipynb",
      "provenance": [],
      "collapsed_sections": []
    },
    "kernelspec": {
      "name": "python3",
      "display_name": "Python 3"
    },
    "language_info": {
      "name": "python"
    }
  },
  "cells": [
    {
      "cell_type": "markdown",
      "source": [
        "# Python\n",
        "\n",
        "# VETORES"
      ],
      "metadata": {
        "id": "ctcSzpoSpO9I"
      }
    },
    {
      "cell_type": "markdown",
      "source": [
        "## TUPLA\n",
        "### VARIAVEL COMPOSTA\n",
        "\n",
        "#### AS TUPLAS SÃO IMUTÁVEIS => NÃO PODEM SER ALTERADAS APÓS A DECLARAÇÃO \n",
        "\n",
        "##### DECLARAÇÃO \n",
        "##### nomeTupla = (valor, valor, valor, valor, valor)"
      ],
      "metadata": {
        "id": "iA-2dxsDqddO"
      }
    },
    {
      "cell_type": "code",
      "source": [
        "## Exemplo\n",
        "##             0     1         2           3     4     5        6        7      8\n",
        "linguagens = ('C', 'Java', 'JavaScript', 'C++', 'C#', 'PHP', 'Python', 'Ruby', 'R') #Criando uma TUPLA\n",
        "print(type(linguagens))\n",
        "\n",
        "linguas = ('C') # Variavel\n",
        "print(type(linguas))\n",
        "\n",
        "ling = tuple('C') # Tupla\n",
        "print(type(ling))\n",
        "\n",
        "lin = ('C',) # Tupla\n",
        "print(type(lin))\n",
        "\n",
        "print(linguagens)\n",
        "print(linguagens[2])\n",
        "print(linguagens[5])\n",
        "print(linguagens[7])\n",
        "\n",
        "print(len(linguagens)) # O Tamanho da Tupla / Vetor\n",
        "\n",
        "print(linguagens[-1]) # Ultimo valor\n",
        "print(linguagens[len(linguagens) -1]) # Ultimo valor \n"
      ],
      "metadata": {
        "colab": {
          "base_uri": "https://localhost:8080/"
        },
        "id": "1FEvZlrbpSfT",
        "outputId": "212723fb-1339-4dc8-d682-537835584a59"
      },
      "execution_count": 15,
      "outputs": [
        {
          "output_type": "stream",
          "name": "stdout",
          "text": [
            "<class 'tuple'>\n",
            "<class 'str'>\n",
            "<class 'tuple'>\n",
            "<class 'tuple'>\n",
            "('C', 'Java', 'JavaScript', 'C++', 'C#', 'PHP', 'Python', 'Ruby', 'R')\n",
            "JavaScript\n",
            "PHP\n",
            "Ruby\n",
            "9\n",
            "R\n",
            "R\n"
          ]
        }
      ]
    },
    {
      "cell_type": "code",
      "source": [
        "# Fatiamento \n",
        "##               0     1         2           3     4     5        6        7      8\n",
        "##linguagens = ('C', 'Java', 'JavaScript', 'C++', 'C#', 'PHP', 'Python', 'Ruby', 'R')\n",
        "print('fatiamento')\n",
        "print(linguagens[1:5]) # 1 - 4\n",
        "print(linguagens[2:]) # 2 - Ultimo\n",
        "print(linguagens[:4]) # 4 primeiros\n",
        "print(linguagens[-3]) # 3 de trás para frente\n",
        "print(linguagens[-4:]) # 4 ultimos"
      ],
      "metadata": {
        "colab": {
          "base_uri": "https://localhost:8080/"
        },
        "id": "1PFKorH9swTE",
        "outputId": "70184eb3-acae-401f-e5af-5ab2f2987368"
      },
      "execution_count": 24,
      "outputs": [
        {
          "output_type": "stream",
          "name": "stdout",
          "text": [
            "fatiamento\n",
            "('Java', 'JavaScript', 'C++', 'C#')\n",
            "('JavaScript', 'C++', 'C#', 'PHP', 'Python', 'Ruby', 'R')\n",
            "('C', 'Java', 'JavaScript', 'C++')\n",
            "Python\n",
            "('PHP', 'Python', 'Ruby', 'R')\n"
          ]
        }
      ]
    },
    {
      "cell_type": "code",
      "source": [
        "# Alterando a tupla\n",
        "linguagens[4] = 'Go' # Tuplas são imutáveis, não podem ser alteradas após a criação -> São valores 'constantes'\n",
        "print(linguagens)"
      ],
      "metadata": {
        "colab": {
          "base_uri": "https://localhost:8080/",
          "height": 201
        },
        "id": "XvKdYcYPtrkW",
        "outputId": "67ea0ed4-a63f-455a-dd94-d799a4497e06"
      },
      "execution_count": 25,
      "outputs": [
        {
          "output_type": "error",
          "ename": "TypeError",
          "evalue": "ignored",
          "traceback": [
            "\u001b[0;31m---------------------------------------------------------------------------\u001b[0m",
            "\u001b[0;31mTypeError\u001b[0m                                 Traceback (most recent call last)",
            "\u001b[0;32m<ipython-input-25-f13638dd2a26>\u001b[0m in \u001b[0;36m<module>\u001b[0;34m()\u001b[0m\n\u001b[1;32m      1\u001b[0m \u001b[0;31m# Alterando a tupla\u001b[0m\u001b[0;34m\u001b[0m\u001b[0;34m\u001b[0m\u001b[0;34m\u001b[0m\u001b[0m\n\u001b[0;32m----> 2\u001b[0;31m \u001b[0mlinguagens\u001b[0m\u001b[0;34m[\u001b[0m\u001b[0;36m4\u001b[0m\u001b[0;34m]\u001b[0m \u001b[0;34m=\u001b[0m \u001b[0;34m'Go'\u001b[0m\u001b[0;34m\u001b[0m\u001b[0;34m\u001b[0m\u001b[0m\n\u001b[0m\u001b[1;32m      3\u001b[0m \u001b[0mprint\u001b[0m\u001b[0;34m(\u001b[0m\u001b[0mlinguagens\u001b[0m\u001b[0;34m)\u001b[0m\u001b[0;34m\u001b[0m\u001b[0;34m\u001b[0m\u001b[0m\n",
            "\u001b[0;31mTypeError\u001b[0m: 'tuple' object does not support item assignment"
          ]
        }
      ]
    },
    {
      "cell_type": "code",
      "source": [
        "## FUNÇÕES NATIVAS DAS TUPLAS\n",
        "\n",
        "num = (10, 20, 15, -5) # Criando Tupla de numeros\n",
        "\n",
        "# ORDENAR \n",
        "print(linguagens)\n",
        "print(sorted(linguagens)) # sorted(tupla) -> Não altera a tupla \n",
        "print(linguagens)\n",
        "\n",
        "print(num)\n",
        "print(sorted(num))\n",
        "print(num)\n",
        "\n",
        "# Buscar pelo valor\n",
        "print(linguagens.index('Java')) # Buscar indice do valor \n",
        "print(num.index(-5))# Buscar indice do valor \n",
        "\n",
        "# maximo\n",
        "print(max(num)) # Valor maximo\n",
        "\n",
        "# minimo\n",
        "print(min(num)) # Valor minimo\n",
        "\n",
        "# Soma\n",
        "print(sum(num)) # Soma \n",
        "\n",
        "# Tamanho\n",
        "print(len(num)) # Tamanho da tupla\n",
        "\n",
        "# Deletar\n",
        "del(num) # Deletar a tupla\n",
        "print(num)"
      ],
      "metadata": {
        "colab": {
          "base_uri": "https://localhost:8080/",
          "height": 409
        },
        "id": "73o8YNGYuGR8",
        "outputId": "c24c4f0c-d14e-4b03-f856-d9b84284ae2b"
      },
      "execution_count": 37,
      "outputs": [
        {
          "output_type": "stream",
          "name": "stdout",
          "text": [
            "('C', 'Java', 'JavaScript', 'C++', 'C#', 'PHP', 'Python', 'Ruby', 'R')\n",
            "['C', 'C#', 'C++', 'Java', 'JavaScript', 'PHP', 'Python', 'R', 'Ruby']\n",
            "('C', 'Java', 'JavaScript', 'C++', 'C#', 'PHP', 'Python', 'Ruby', 'R')\n",
            "(10, 20, 15, -5)\n",
            "[-5, 10, 15, 20]\n",
            "(10, 20, 15, -5)\n",
            "1\n",
            "3\n",
            "20\n",
            "-5\n",
            "40\n",
            "4\n"
          ]
        },
        {
          "output_type": "error",
          "ename": "NameError",
          "evalue": "ignored",
          "traceback": [
            "\u001b[0;31m---------------------------------------------------------------------------\u001b[0m",
            "\u001b[0;31mNameError\u001b[0m                                 Traceback (most recent call last)",
            "\u001b[0;32m<ipython-input-37-1cd815937f05>\u001b[0m in \u001b[0;36m<module>\u001b[0;34m()\u001b[0m\n\u001b[1;32m     30\u001b[0m \u001b[0;31m# Deletar\u001b[0m\u001b[0;34m\u001b[0m\u001b[0;34m\u001b[0m\u001b[0;34m\u001b[0m\u001b[0m\n\u001b[1;32m     31\u001b[0m \u001b[0;32mdel\u001b[0m\u001b[0;34m(\u001b[0m\u001b[0mnum\u001b[0m\u001b[0;34m)\u001b[0m\u001b[0;34m\u001b[0m\u001b[0;34m\u001b[0m\u001b[0m\n\u001b[0;32m---> 32\u001b[0;31m \u001b[0mprint\u001b[0m\u001b[0;34m(\u001b[0m\u001b[0mnum\u001b[0m\u001b[0;34m)\u001b[0m\u001b[0;34m\u001b[0m\u001b[0;34m\u001b[0m\u001b[0m\n\u001b[0m",
            "\u001b[0;31mNameError\u001b[0m: name 'num' is not defined"
          ]
        }
      ]
    },
    {
      "cell_type": "markdown",
      "source": [
        "## LISTA\n",
        "### VARIAVEL COMPOSTA\n",
        "\n",
        "\n",
        "##### DECLARAÇÃO \n",
        "##### nomeTupla = [valor, valor, valor, valor, valor]"
      ],
      "metadata": {
        "id": "jwZhtorFwP7G"
      }
    },
    {
      "cell_type": "code",
      "source": [
        "# Criando listas\n",
        "roupas = ['Blusa', 'Calça', 'Meia', 'Casaco'] # Criando Lista\n",
        "print(type(roupas)) # Tipo\n",
        "print(roupas) # Exibindo todos os valores da lista\n",
        "print(len(roupas)) # Tamanho lista\n",
        "\n",
        "numeros = list(range(10, 31, 3))\n",
        "print(type(numeros))\n",
        "print(numeros)\n",
        "print(len(numeros))\n",
        "\n",
        "teste = []\n",
        "print(type(teste))\n",
        "print(teste)\n",
        "print(len(teste))\n"
      ],
      "metadata": {
        "colab": {
          "base_uri": "https://localhost:8080/"
        },
        "id": "aUi3dxvfwPTM",
        "outputId": "8e5898f1-fdbc-4d8c-aa93-b229e4edf4b5"
      },
      "execution_count": 48,
      "outputs": [
        {
          "output_type": "stream",
          "name": "stdout",
          "text": [
            "<class 'list'>\n",
            "['Blusa', 'Calça', 'Meia', 'Casaco']\n",
            "4\n",
            "<class 'list'>\n",
            "[10, 13, 16, 19, 22, 25, 28]\n",
            "7\n",
            "<class 'list'>\n",
            "[]\n",
            "0\n"
          ]
        }
      ]
    },
    {
      "cell_type": "code",
      "source": [
        "# Declarando\n",
        "carros = ['Palio', 'Gol', 'Celta', 'Corsa']\n",
        "print(carros)\n",
        "print(len(carros))\n",
        "\n",
        "# Adicionar um novo item \n",
        "carros.append('Fusca') # Adiciona ao final da lista -> Ultimo item\n",
        "# carros.append(input('Digite um carro: ')) Adicionando valor digitado pelo usuario\n",
        "print(carros)\n",
        "print(len(carros))\n",
        "\n",
        "\n",
        "# Inserir em um indice especifico\n",
        "carros.insert(2, 'Fox')\n",
        "# carros.insert(2, input('Digite um carro: ')) / carros.insert(2, variavel)\n",
        "print(carros)\n",
        "print(len(carros))\n",
        "\n",
        "\n",
        "# Remover pelo indice\n",
        "del carros[2]\n",
        "print(carros)\n",
        "print(len(carros))\n",
        "\n",
        "carros.pop(3) # Removendo o 3 item\n",
        "print(carros)\n",
        "print(len(carros))\n",
        "\n",
        "carros.pop() # Removendo o ultimo\n",
        "print(carros)\n",
        "print(len(carros))\n",
        "\n",
        "# Remover pelo valor\n",
        "carros.remove('Celta')\n",
        "print(carros)\n",
        "print(len(carros))\n",
        "\n",
        "# Alterar Valor\n",
        "carros[0] = 'Celta'\n",
        "print(carros)\n",
        "print(len(carros))\n",
        "\n",
        "carros[1] = 'Palio'\n",
        "print(carros)\n",
        "print(len(carros))\n",
        "\n",
        "# Deletar lista\n",
        "del carros\n",
        "print(carros)"
      ],
      "metadata": {
        "colab": {
          "base_uri": "https://localhost:8080/",
          "height": 513
        },
        "id": "P9u5rIqQxiDB",
        "outputId": "35f43ec4-a1ba-4f93-bc5f-b68e493d3b66"
      },
      "execution_count": 66,
      "outputs": [
        {
          "output_type": "stream",
          "name": "stdout",
          "text": [
            "['Palio', 'Gol', 'Celta', 'Corsa']\n",
            "4\n",
            "['Palio', 'Gol', 'Celta', 'Corsa', 'Fusca']\n",
            "5\n",
            "['Palio', 'Gol', 'Fox', 'Celta', 'Corsa', 'Fusca']\n",
            "6\n",
            "['Palio', 'Gol', 'Celta', 'Corsa', 'Fusca']\n",
            "5\n",
            "['Palio', 'Gol', 'Celta', 'Fusca']\n",
            "4\n",
            "['Palio', 'Gol', 'Celta']\n",
            "3\n",
            "['Palio', 'Gol']\n",
            "2\n",
            "['Celta', 'Gol']\n",
            "2\n",
            "['Celta', 'Palio']\n",
            "2\n"
          ]
        },
        {
          "output_type": "error",
          "ename": "NameError",
          "evalue": "ignored",
          "traceback": [
            "\u001b[0;31m---------------------------------------------------------------------------\u001b[0m",
            "\u001b[0;31mNameError\u001b[0m                                 Traceback (most recent call last)",
            "\u001b[0;32m<ipython-input-66-5ac970e12189>\u001b[0m in \u001b[0;36m<module>\u001b[0;34m()\u001b[0m\n\u001b[1;32m     47\u001b[0m \u001b[0;31m# Deletar lista\u001b[0m\u001b[0;34m\u001b[0m\u001b[0;34m\u001b[0m\u001b[0;34m\u001b[0m\u001b[0m\n\u001b[1;32m     48\u001b[0m \u001b[0;32mdel\u001b[0m \u001b[0mcarros\u001b[0m\u001b[0;34m\u001b[0m\u001b[0;34m\u001b[0m\u001b[0m\n\u001b[0;32m---> 49\u001b[0;31m \u001b[0mprint\u001b[0m\u001b[0;34m(\u001b[0m\u001b[0mcarros\u001b[0m\u001b[0;34m)\u001b[0m\u001b[0;34m\u001b[0m\u001b[0;34m\u001b[0m\u001b[0m\n\u001b[0m",
            "\u001b[0;31mNameError\u001b[0m: name 'carros' is not defined"
          ]
        }
      ]
    },
    {
      "cell_type": "code",
      "source": [
        "# Copia de tabela\n",
        "carros = ['Palio', 'Gol', 'Celta', 'Corsa']\n",
        "\n",
        "outrosCarros = carros[:]\n",
        "print(outrosCarros)\n",
        "print(len(outrosCarros))\n",
        "\n",
        "\n"
      ],
      "metadata": {
        "colab": {
          "base_uri": "https://localhost:8080/"
        },
        "id": "HjyPlLa4zgSw",
        "outputId": "2ca921d1-5f70-413e-acbc-af0599a1662f"
      },
      "execution_count": 72,
      "outputs": [
        {
          "output_type": "stream",
          "name": "stdout",
          "text": [
            "['Palio', 'Gol', 'Celta', 'Corsa']\n",
            "4\n"
          ]
        }
      ]
    },
    {
      "cell_type": "code",
      "source": [
        "# Teste logico\n",
        "\n",
        "# Existe o valor TAL dentro da LISTA\n",
        "car = input('Pesquise o carro da loja: ')\n",
        "if(car in carros):\n",
        "  print('Tem')\n",
        "else:\n",
        "  print('Não')"
      ],
      "metadata": {
        "colab": {
          "base_uri": "https://localhost:8080/"
        },
        "id": "J_JepPJ10XnY",
        "outputId": "5adcc2d6-0069-47d6-cbf5-f66a520a8ab6"
      },
      "execution_count": 79,
      "outputs": [
        {
          "output_type": "stream",
          "name": "stdout",
          "text": [
            "Pesquise o carro da loja: Corsa\n",
            "Tem\n"
          ]
        }
      ]
    },
    {
      "cell_type": "code",
      "source": [
        "# Funções\n",
        "# Ordenar\n",
        "valores = [15, 20, 98, -59, 275, 159, 2]\n",
        "print(valores)\n",
        "print(len(valores))\n",
        "valores.sort() # Altera a lista \n",
        "print(valores)\n",
        "valores.sort(reverse=True) # Decrescente\n",
        "print(valores)\n",
        "\n",
        "# Max\n",
        "print(max(valores))\n",
        "\n",
        "# Min\n",
        "print(min(valores))\n",
        "\n",
        "# Tamanho\n",
        "print(len(valores))\n",
        "\n",
        "# Soma \n",
        "print(sum(valores))\n",
        "\n",
        "# Ordenar sem alterar a lista\n",
        "print(sorted(valores)) # Não alterar a lista \n",
        "print(valores)"
      ],
      "metadata": {
        "colab": {
          "base_uri": "https://localhost:8080/"
        },
        "id": "fy_tAEWU08ud",
        "outputId": "8fdbe7cb-f1a9-4eab-a7ff-9e6cac515569"
      },
      "execution_count": 90,
      "outputs": [
        {
          "output_type": "stream",
          "name": "stdout",
          "text": [
            "[15, 20, 98, -59, 275, 159, 2]\n",
            "7\n",
            "[-59, 2, 15, 20, 98, 159, 275]\n",
            "[275, 159, 98, 20, 15, 2, -59]\n",
            "275\n",
            "-59\n",
            "7\n",
            "510\n",
            "[-59, 2, 15, 20, 98, 159, 275]\n",
            "[275, 159, 98, 20, 15, 2, -59]\n"
          ]
        }
      ]
    },
    {
      "cell_type": "code",
      "source": [
        "# Listando itens dos vetores\n",
        "alunos = ['Kenji', 'Mateus', 'Akio', 'Emerson', 'Davi', 'Sayumi', 'Lorhana', 'Erick', 'Igor']\n",
        "print(alunos)\n",
        "alunos.sort()\n",
        "print(alunos)\n",
        "\n",
        "def linhas():\n",
        "  print('==' * 20)\n",
        "\n",
        "linhas()\n",
        "print('PRIMEIRA FORMA')\n",
        "for i in range(0, len(alunos)): # i recebe o INDICE do LOOP\n",
        "  print(f'Aluno {alunos[i]} na posição {i}') # print('Aluno {} na posição {}' .format(alunos[i], i))\n",
        "\n",
        "linhas()\n",
        "print('SEGUNDA FORMA')\n",
        "for nome in alunos: # nome recebe o VALOR da LISTA \n",
        "  print(f'Aluno {nome}')\n",
        "\n",
        "linhas()\n",
        "print('TERCEIRA FORMA')\n",
        "for i, nome in enumerate(alunos): # enumerate gera DOIS VALORES -> INDICE e VALOR DA LISTA\n",
        "  print(f'Aluno {nome} na posição {i}') # print('Aluno {} na posição {}' .format(alunos[i], i))\n"
      ],
      "metadata": {
        "colab": {
          "base_uri": "https://localhost:8080/"
        },
        "id": "fF1KPIoW2GT1",
        "outputId": "bc6d1959-6183-47d3-ed15-7c0b6388b48c"
      },
      "execution_count": 99,
      "outputs": [
        {
          "output_type": "stream",
          "name": "stdout",
          "text": [
            "['Kenji', 'Mateus', 'Akio', 'Emerson', 'Davi', 'Sayumi', 'Lorhana', 'Erick', 'Igor']\n",
            "['Akio', 'Davi', 'Emerson', 'Erick', 'Igor', 'Kenji', 'Lorhana', 'Mateus', 'Sayumi']\n",
            "========================================\n",
            "PRIMEIRA FORMA\n",
            "Aluno Akio na posição 0\n",
            "Aluno Davi na posição 1\n",
            "Aluno Emerson na posição 2\n",
            "Aluno Erick na posição 3\n",
            "Aluno Igor na posição 4\n",
            "Aluno Kenji na posição 5\n",
            "Aluno Lorhana na posição 6\n",
            "Aluno Mateus na posição 7\n",
            "Aluno Sayumi na posição 8\n",
            "========================================\n",
            "SEGUNDA FORMA\n",
            "Aluno Akio\n",
            "Aluno Davi\n",
            "Aluno Emerson\n",
            "Aluno Erick\n",
            "Aluno Igor\n",
            "Aluno Kenji\n",
            "Aluno Lorhana\n",
            "Aluno Mateus\n",
            "Aluno Sayumi\n",
            "========================================\n",
            "TERCEIRA FORMA\n",
            "Aluno Akio na posição 0\n",
            "Aluno Davi na posição 1\n",
            "Aluno Emerson na posição 2\n",
            "Aluno Erick na posição 3\n",
            "Aluno Igor na posição 4\n",
            "Aluno Kenji na posição 5\n",
            "Aluno Lorhana na posição 6\n",
            "Aluno Mateus na posição 7\n",
            "Aluno Sayumi na posição 8\n"
          ]
        }
      ]
    },
    {
      "cell_type": "code",
      "source": [
        "# Criar uma lista de numero geradas pelo usuario receba 5 numeros\n",
        "\n",
        "def inputNum():\n",
        "  return int(input('Digite um numero: ')) # Pede valor do usuario\n",
        "\n",
        "numUsu = [] # Lista Vazia\n",
        "for i in range(0, 5):\n",
        "  numUsu.append(inputNum())\n",
        "\n",
        "print(numUsu)\n",
        "print(f' Maior número {max(numUsu)}')\n",
        "print(f' Menor número {min(numUsu)}')\n",
        "print(f' Somatório {sum(numUsu)}' )\n",
        "print(f' Quantidade de itens da lista {len(numUsu)}'  )\n",
        "numUsu.sort()\n",
        "print(numUsu)\n"
      ],
      "metadata": {
        "colab": {
          "base_uri": "https://localhost:8080/"
        },
        "id": "GFGBOftn5Gqp",
        "outputId": "73b8980d-97d6-41fb-df7c-9dd255551aac"
      },
      "execution_count": 101,
      "outputs": [
        {
          "output_type": "stream",
          "name": "stdout",
          "text": [
            "Digite um numero: 20\n",
            "Digite um numero: -2\n",
            "Digite um numero: 98\n",
            "Digite um numero: -5\n",
            "Digite um numero: 10\n",
            "[20, -2, 98, -5, 10]\n",
            " Maior número 98\n",
            " Menor número -5\n",
            " Somatório 121\n",
            " Quantidade de itens da lista 5\n",
            "[-5, -2, 10, 20, 98]\n"
          ]
        }
      ]
    },
    {
      "cell_type": "markdown",
      "source": [
        "# Receba 4 nomes e guarde em uma lista, após receber exiba a lista em ordem alfabetica. \n",
        "- Regras \n",
        "- Criar uma função\n",
        "- Utilizar for\n"
      ],
      "metadata": {
        "id": "tFLeonkI55IH"
      }
    }
  ]
}