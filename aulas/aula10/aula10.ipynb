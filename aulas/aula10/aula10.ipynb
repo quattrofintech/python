{
 "cells": [
  {
   "cell_type": "code",
   "execution_count": 9,
   "metadata": {},
   "outputs": [
    {
     "name": "stdout",
     "output_type": "stream",
     "text": [
      "150\n",
      "30.0\n"
     ]
    }
   ],
   "source": [
    "# Leia 5 valores, mostre a média dos numeros e a soma\n",
    "\n",
    "numeros = []\n",
    "\n",
    "# numeros.insert[indice] = valor\n",
    "# numeros.append(valor) -> Adiciona ao final da lista\n",
    "\n",
    "for i in range(5):\n",
    "    numeros.append(int(input('Digite um valor')))\n",
    "#print(numeros)\n",
    "\n",
    "soma = 0\n",
    "for numero in numeros:\n",
    "    soma += numero\n",
    "\n",
    "\n",
    "media = soma / len(numeros)\n",
    "\n",
    "print(soma)\n",
    "print(media)"
   ]
  },
  {
   "cell_type": "code",
   "execution_count": 14,
   "metadata": {},
   "outputs": [
    {
     "name": "stdout",
     "output_type": "stream",
     "text": [
      "Numeros são diferentes\n"
     ]
    }
   ],
   "source": [
    "# Verifique se dois numeros digitados são iguais\n",
    "\n",
    "# if(x == y)\n",
    "\n",
    "x = int(input('Digite um numero: '))\n",
    "y = int(input('Digite um numero: '))\n",
    "\n",
    "if(x == y):\n",
    "    print('Numeros são iguais')\n",
    "else:\n",
    "    print('Numeros são diferentes')\n"
   ]
  }
 ],
 "metadata": {
  "kernelspec": {
   "display_name": "Python 3.9.2 64-bit",
   "language": "python",
   "name": "python3"
  },
  "language_info": {
   "codemirror_mode": {
    "name": "ipython",
    "version": 3
   },
   "file_extension": ".py",
   "mimetype": "text/x-python",
   "name": "python",
   "nbconvert_exporter": "python",
   "pygments_lexer": "ipython3",
   "version": "3.9.2"
  },
  "orig_nbformat": 4,
  "vscode": {
   "interpreter": {
    "hash": "916dbcbb3f70747c44a77c7bcd40155683ae19c65e1c03b4aa3499c5328201f1"
   }
  }
 },
 "nbformat": 4,
 "nbformat_minor": 2
}
