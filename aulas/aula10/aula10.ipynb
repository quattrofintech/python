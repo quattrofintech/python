{
 "cells": [
  {
   "cell_type": "code",
   "execution_count": 9,
   "metadata": {},
   "outputs": [
    {
     "name": "stdout",
     "output_type": "stream",
     "text": [
      "150\n",
      "30.0\n"
     ]
    }
   ],
   "source": [
    "# Leia 5 valores, mostre a média dos numeros e a soma\n",
    "\n",
    "numeros = []\n",
    "\n",
    "# numeros.insert[indice] = valor\n",
    "# numeros.append(valor) -> Adiciona ao final da lista\n",
    "\n",
    "for i in range(5):\n",
    "    numeros.append(int(input('Digite um valor')))\n",
    "#print(numeros)\n",
    "\n",
    "soma = 0\n",
    "for numero in numeros:\n",
    "    soma += numero\n",
    "\n",
    "\n",
    "media = soma / len(numeros)\n",
    "\n",
    "print(soma)\n",
    "print(media)"
   ]
  },
  {
   "cell_type": "code",
   "execution_count": 2,
   "metadata": {},
   "outputs": [
    {
     "name": "stdout",
     "output_type": "stream",
     "text": [
      "150\n",
      "30.0\n"
     ]
    }
   ],
   "source": [
    "# Exercicio anterior com WHILE\n",
    "\n",
    "numeros = []\n",
    "\n",
    "# numeros.insert[indice] = valor\n",
    "# numeros.append(valor) -> Adiciona ao final da lista\n",
    "\n",
    "contador = 0 \n",
    "while(contador < 5):\n",
    "    numeros.append(int(input('Digite um valor')))\n",
    "    contador += 1\n",
    "#print(numeros)\n",
    "\n",
    "soma = 0\n",
    "contador = 0\n",
    "while(contador < len(numeros)):\n",
    "    soma += numeros[contador]\n",
    "    contador += 1\n",
    "\n",
    "\n",
    "media = soma / len(numeros)\n",
    "\n",
    "print(soma)\n",
    "print(media)\n"
   ]
  },
  {
   "cell_type": "code",
   "execution_count": 14,
   "metadata": {},
   "outputs": [
    {
     "name": "stdout",
     "output_type": "stream",
     "text": [
      "Numeros são diferentes\n"
     ]
    }
   ],
   "source": [
    "# Verifique se dois numeros digitados são iguais\n",
    "\n",
    "# if(x == y)\n",
    "\n",
    "x = int(input('Digite um numero: '))\n",
    "y = int(input('Digite um numero: '))\n",
    "\n",
    "if(x == y):\n",
    "    print('Numeros são iguais')\n",
    "else:\n",
    "    print('Numeros são diferentes')\n"
   ]
  },
  {
   "cell_type": "code",
   "execution_count": 6,
   "metadata": {},
   "outputs": [
    {
     "name": "stdout",
     "output_type": "stream",
     "text": [
      "São diferentes\n"
     ]
    }
   ],
   "source": [
    "numeros = []\n",
    "\n",
    "for i in range(0, 2):\n",
    "    numeros.append(int(input('Digite um numero: ')))\n",
    "\n",
    "if(numeros[0] == numeros[1]):\n",
    "    print(\"São iguais\")\n",
    "else:\n",
    "    print('São diferentes')\n"
   ]
  },
  {
   "cell_type": "code",
   "execution_count": 12,
   "metadata": {},
   "outputs": [
    {
     "name": "stdout",
     "output_type": "stream",
     "text": [
      "\n",
      "\n",
      "\n",
      "\n",
      "\n",
      "\n",
      "\n",
      "\n",
      "\n",
      "\n",
      "\n",
      "\n",
      "\n",
      "\n",
      "Farinha   Farinha\n",
      "Arroz   Arroz\n",
      "Feijão   Feijão\n",
      "Farofa   Farofa\n",
      "Ervilha   Ervilha\n",
      "Milho   Milho\n",
      "Biscoito   Biscoito\n"
     ]
    }
   ],
   "source": [
    "# Liste todos os itens da prateleira do mercado em linhas diferentes\n",
    "# preteleira [Farinha, Arroz, feijão, farofa, ervilha, milho, biscoito]\n",
    "\n",
    "prateleira = ('Farinha', 'Arroz', 'Feijão', 'Farofa', 'Ervilha', 'Milho', 'Biscoito')\n",
    "\n",
    "for item in prateleira:  # item recebe valor da lista\n",
    "    #print(item)\n",
    "    print('')\n",
    "\n",
    "for i in range(len(prateleira)): # i recebe o indice\n",
    "    #print(prateleira[i])\n",
    "    print('')\n",
    "\n",
    "for i, item in enumerate(prateleira):\n",
    "    print(prateleira[i], ' ', item)\n",
    "\n",
    "contador = 0 \n",
    "while(contador < len(prateleira)):\n",
    "    #print(prateleira[contador])\n",
    "    contador += 1"
   ]
  },
  {
   "cell_type": "code",
   "execution_count": 15,
   "metadata": {},
   "outputs": [
    {
     "name": "stdout",
     "output_type": "stream",
     "text": [
      "Tem\n"
     ]
    }
   ],
   "source": [
    "# Pesquisar um item na prateleira do exercicio anterior e dizer se tem ou não\n",
    "\n",
    "busca = input('Digite o nome de um produto: ')\n",
    "if(busca.capitalize() in prateleira):\n",
    "    print('Tem')\n",
    "else:\n",
    "    print('Não tem')"
   ]
  },
  {
   "cell_type": "code",
   "execution_count": 20,
   "metadata": {},
   "outputs": [
    {
     "name": "stdout",
     "output_type": "stream",
     "text": [
      "Tem o produto\n"
     ]
    }
   ],
   "source": [
    "busca = input('Digite o nome do produto: ')\n",
    "achou =  False\n",
    "for item in prateleira:\n",
    "    if(busca.lower() == item.lower()):\n",
    "        achou = True\n",
    "\n",
    "if(achou):\n",
    "    print('Tem o produto')\n",
    "else:\n",
    "    print('Não tem')"
   ]
  }
 ],
 "metadata": {
  "kernelspec": {
   "display_name": "Python 3.9.2 64-bit",
   "language": "python",
   "name": "python3"
  },
  "language_info": {
   "codemirror_mode": {
    "name": "ipython",
    "version": 3
   },
   "file_extension": ".py",
   "mimetype": "text/x-python",
   "name": "python",
   "nbconvert_exporter": "python",
   "pygments_lexer": "ipython3",
   "version": "3.9.2"
  },
  "orig_nbformat": 4,
  "vscode": {
   "interpreter": {
    "hash": "916dbcbb3f70747c44a77c7bcd40155683ae19c65e1c03b4aa3499c5328201f1"
   }
  }
 },
 "nbformat": 4,
 "nbformat_minor": 2
}
