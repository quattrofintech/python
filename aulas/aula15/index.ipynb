{
 "cells": [
  {
   "cell_type": "markdown",
   "metadata": {},
   "source": [
    "# LISTAS"
   ]
  },
  {
   "cell_type": "code",
   "execution_count": 42,
   "metadata": {},
   "outputs": [
    {
     "name": "stdout",
     "output_type": "stream",
     "text": [
      "Listar por linhas\n",
      "['Gustavo', 'Marcos', 'Pedro']\n",
      "--------------------\n",
      "['João', 'Paulo', 'Rafael']\n",
      "--------------------\n",
      "['Akio', 'Kenji', 'Emerson']\n",
      "--------------------\n",
      "Listar por dados\n",
      "Pedro\n",
      "--------------------\n",
      "Rafael\n",
      "--------------------\n",
      "Emerson\n",
      "--------------------\n",
      "Um item\n",
      "Paulo\n"
     ]
    }
   ],
   "source": [
    "testes = [] # Lista que vai ficar com as listas\n",
    "\n",
    "teste = list() # teste = [] || teste = [1, 2, 3, 4, 5, 6, 7, 8,] \n",
    "\n",
    "teste.append('Gustavo')\n",
    "teste.append('Jorge')\n",
    "teste.append('Pedro')\n",
    "\n",
    "teste[1] = \"Marcos\"\n",
    "\n",
    "testes.append(teste[:])\n",
    "teste.clear()\n",
    "\n",
    "teste.append('João')\n",
    "teste.append('Paulo')\n",
    "teste.append('Rafael')\n",
    "testes.append(teste[:])\n",
    "teste.clear()\n",
    "\n",
    "teste.append('Akio')\n",
    "teste.append('Kenji')\n",
    "teste.append('Emerson')\n",
    "testes.append(teste[:])\n",
    "teste.clear()\n",
    "\n",
    "print('Listar por linhas')\n",
    "for i in testes:\n",
    "    print(i)\n",
    "    print('-' * 20)\n",
    "\n",
    "print('Listar por dados')\n",
    "for i in testes:\n",
    "    print(i[2])\n",
    "    print('-' * 20)\n",
    "''' \n",
    "\n",
    "[\n",
    "            0         1          2\n",
    "    0: ['Gustavo', 'Marcos', 'Pedro'],\n",
    "    1: [ 'João',   'Paulo', 'Rafael'],\n",
    "    2: [ 'Akio',   'Kenji', 'Emerson']\n",
    "\n",
    "]'''\n",
    "\n",
    "print('Um item')\n",
    "print(testes[1][1])"
   ]
  },
  {
   "cell_type": "code",
   "execution_count": 38,
   "metadata": {},
   "outputs": [
    {
     "name": "stdout",
     "output_type": "stream",
     "text": [
      "[[1, 'Gabriel'], [2, 'Sayumi']]\n",
      "Gabriel\n"
     ]
    }
   ],
   "source": [
    "alunos = []\n",
    "\n",
    "\n",
    "aluno = [1, 'Gabriel']\n",
    "alunos.append(aluno[:])\n",
    "aluno.clear()\n",
    "\n",
    "aluno = [2, 'Sayumi']\n",
    "alunos.append(aluno[:])\n",
    "aluno.clear()\n",
    "\n",
    "print(alunos)\n",
    "''' \n",
    "    0 [1, Gabriel]\n",
    "    1 [2, Sayumi]\n",
    "'''\n",
    "\n",
    "print(alunos[0][1])\n"
   ]
  },
  {
   "cell_type": "code",
   "execution_count": 5,
   "metadata": {},
   "outputs": [
    {
     "name": "stdout",
     "output_type": "stream",
     "text": [
      "----------------\n",
      "Site de Receitas\n",
      "----------------\n"
     ]
    }
   ],
   "source": [
    "''' \n",
    "                                      0         1         2\n",
    " Um programa de Receitas que tenha o codigo, o nome e a receita\n",
    " O programa deve\n",
    "  1 - Cadastrar\n",
    "  2 - Listar todas as receitas \n",
    "  3 - Ler uma receita\n",
    "  4 - Alterar uma receita\n",
    "  CRUD -> CREATE, READ, UPDATE e DELETE\n",
    "'''\n",
    "todasReceitas = []\n",
    "receita = []\n",
    "\n",
    "def texto(valor):\n",
    "    print('-' * len(valor))\n",
    "    print(valor)\n",
    "    print('-' * len(valor))\n",
    "\n",
    "def cadastrarReceita():\n",
    "    print('Cadastrar')\n",
    "    receita.append(int(input('Digite o codigo da Receita: ')))\n",
    "    receita.append(input('Digite o nome da Receita: '))\n",
    "    receita.append(input('Digite a Receita: '))\n",
    "    # receita [ codigo, nome, receita]\n",
    "    todasReceitas.append(receita[:])\n",
    "    # receitas [[codigo, nome, receitas], [codigo, nome, receita], ... , [codigo, nome, receita]]\n",
    "    receita.clear()\n",
    "    print('Receita cadastrada com sucesso')\n",
    "\n",
    "def listarReceitas():\n",
    "    texto('Lista de Receitas')\n",
    "    for i in todasReceitas:\n",
    "        print(f'Cod: {i[0]}..... Nome: {i[1]}')\n",
    "        print('-' * 30)\n",
    "\n",
    "def lerReceita():\n",
    "    cod = int(input('Digite o código da Receita que deseja ler: '))\n",
    "    for i in todasReceitas:\n",
    "        if i[0] == cod:\n",
    "            texto(i[1])\n",
    "            print('Receita: ')\n",
    "            print(i[2])\n",
    "            return\n",
    "    print('Receita não encontrada. ;(')\n",
    "\n",
    "def alterarReceita():\n",
    "    cod = int(input('Digite o codigo da receita que deseja alterar: '))\n",
    "    for i in todasReceitas:\n",
    "        if i[0] == cod:\n",
    "            i[1] = input('Digite o novo nome')\n",
    "            i[2] = input('Digite a nova receita')\n",
    "            print('Alterei com sucesso!')\n",
    "            return \n",
    "    print('Receita não encontrada.')\n",
    "\n",
    "    \n",
    "texto('Site de Receitas')\n",
    "while(True):\n",
    "    menu = int(input(' 1 - Ler Receita \\n 2 - Listar Receitas \\n 3 - Cadastrar Receita \\n 4 - Alterar Receita \\n 5 - Sair \\n '))\n",
    "    if(menu == 1):\n",
    "        lerReceita()\n",
    "    elif(menu == 2):\n",
    "        listarReceitas()\n",
    "    elif(menu == 3):\n",
    "        cadastrarReceita()\n",
    "    elif(menu == 4):\n",
    "        alterarReceita() # Dever de Casa -> Tentar alterar uma receita selecionada pelo usuário, alterar NOME e RECEITA \n",
    "    elif(menu > 4):\n",
    "        break\n",
    "\n"
   ]
  },
  {
   "cell_type": "code",
   "execution_count": null,
   "metadata": {},
   "outputs": [],
   "source": []
  }
 ],
 "metadata": {
  "kernelspec": {
   "display_name": "Python 3.9.2 64-bit",
   "language": "python",
   "name": "python3"
  },
  "language_info": {
   "codemirror_mode": {
    "name": "ipython",
    "version": 3
   },
   "file_extension": ".py",
   "mimetype": "text/x-python",
   "name": "python",
   "nbconvert_exporter": "python",
   "pygments_lexer": "ipython3",
   "version": "3.9.2"
  },
  "orig_nbformat": 4,
  "vscode": {
   "interpreter": {
    "hash": "916dbcbb3f70747c44a77c7bcd40155683ae19c65e1c03b4aa3499c5328201f1"
   }
  }
 },
 "nbformat": 4,
 "nbformat_minor": 2
}
