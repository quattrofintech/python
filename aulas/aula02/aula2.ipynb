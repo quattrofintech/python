{
  "nbformat": 4,
  "nbformat_minor": 0,
  "metadata": {
    "colab": {
      "name": "aula2.ipynb",
      "provenance": [],
      "collapsed_sections": []
    },
    "kernelspec": {
      "name": "python3",
      "display_name": "Python 3"
    },
    "language_info": {
      "name": "python"
    }
  },
  "cells": [
    {
      "cell_type": "code",
      "execution_count": 10,
      "metadata": {
        "colab": {
          "base_uri": "https://localhost:8080/"
        },
        "id": "jAsVda4Ps8i3",
        "outputId": "6e104dd1-19cc-4938-f266-438118351d28"
      },
      "outputs": [
        {
          "output_type": "stream",
          "name": "stdout",
          "text": [
            "Digite o seu sexo(M / F )M\n",
            "Sexo Masculino\n"
          ]
        }
      ],
      "source": [
        "# Faça um programa que verifique (usando if e else) se uma letra digitada é “F” ou “M”.\n",
        "# Conforme a letra escrever: F – Feminino, M- Masculino, Sexo inválido. \n",
        "\n",
        "sexo = input('Digite o seu sexo(M / F )').upper() #('ABCDEFGHIJKLMNOPQRSTUVXYWZ')\n",
        "if(sexo == 'M'):\n",
        "  print('Sexo Masculino')\n",
        "elif(sexo == 'F'):\n",
        "  print('Sexo Feminino')\n",
        "else:\n",
        "  print('Valor inválido')\n",
        "\n"
      ]
    },
    {
      "cell_type": "code",
      "source": [
        "# Faça um programa que verifique se uma letra digitada é vogal ou consoante.\n",
        "\n",
        "## Pego valor do usuario ( entrada de valor)\n",
        "letra = input('Digite uma letra').lower() ## letra minuscula ('abcdefghijklmnopqrstuvxwyz')\n",
        "\n",
        "if(letra == 'a' or letra == 'e' or letra == 'i' or letra == 'o' or letra == 'u'):\n",
        "  print('É uma vogal')\n",
        "else:\n",
        "  print('É uma consoante')\n",
        "\n"
      ],
      "metadata": {
        "colab": {
          "base_uri": "https://localhost:8080/"
        },
        "id": "mMf4600OulKr",
        "outputId": "b71d6b96-a8ca-4f3f-9203-80b019c5a053"
      },
      "execution_count": 18,
      "outputs": [
        {
          "output_type": "stream",
          "name": "stdout",
          "text": [
            "Digite uma letraç\n",
            "É uma consoante\n"
          ]
        }
      ]
    },
    {
      "cell_type": "code",
      "source": [
        "# Faça um programa que verifique (usando if e else) se uma letra digitada é \n",
        "# vogal ou consoante e se foi uma letra inválida.\n",
        "\n",
        "# a    = A / a\n",
        "letra = input('Digite uma letra: ').lower()\n",
        "\n",
        "# tamanho da variavel é len(variavel)\n",
        "\n",
        "if(len(letra) == 1):\n",
        "  # Se a qnt de letras for igual a 1 faça\n",
        "  if(letra.isalpha()): ## é um valor alfabetico? = true / == false\n",
        "    # se for letra\n",
        "    if(letra == 'a' or letra == 'e' or letra == 'i' or letra == 'o' or letra == 'u'):\n",
        "      print('Digitou uma vogal')\n",
        "    else:\n",
        "      print('É uma consoante')\n",
        "  else:\n",
        "    # Se não for letra\n",
        "    print('Não é uma letra válida')\n",
        "else:\n",
        "  # Se for diferente de 1 faça\n",
        "  print('Não é um valor válido')\n",
        "\n"
      ],
      "metadata": {
        "colab": {
          "base_uri": "https://localhost:8080/"
        },
        "id": "lVIL-oBVynd_",
        "outputId": "df751d8b-4cdc-4baf-bc02-417572d534e8"
      },
      "execution_count": 54,
      "outputs": [
        {
          "output_type": "stream",
          "name": "stdout",
          "text": [
            "Digite uma letra: \n",
            "Não é um valor válido\n"
          ]
        }
      ]
    },
    {
      "cell_type": "code",
      "source": [
        "# Leia um numero e verificar se é um número. \n",
        "# apos verificar exibir seu antecessor, seu sucessor e se é par ou ímpar\n",
        "\n",
        "numero = input('Digite um número: ')\n",
        "if(numero.isnumeric()):\n",
        "  numero = int(numero)\n",
        "  if(numero % 2 == 0): # O resto da divisão é igual a 0 ? \n",
        "    print('par')\n",
        "  else:\n",
        "    print('impar')\n",
        "\n",
        "  print('Seu antecessor é: ', numero - 1)\n",
        "  print('Seu sucessor é: ', numero + 1)\n",
        "else:\n",
        "  print('Digite um valor válido')\n"
      ],
      "metadata": {
        "colab": {
          "base_uri": "https://localhost:8080/"
        },
        "id": "F4Z14glj3biE",
        "outputId": "8c13e4f3-b0a1-4c70-a3ca-7bfb2ff34685"
      },
      "execution_count": 96,
      "outputs": [
        {
          "output_type": "stream",
          "name": "stdout",
          "text": [
            "Digite um número: 15\n",
            "impar\n",
            "Seu antecessor é:  14\n",
            "Seu sucessor é:  16\n"
          ]
        }
      ]
    },
    {
      "cell_type": "code",
      "source": [
        "# Faça um programa que pergunte em que turno você estuda. \n",
        "# Peça para digitar M-matutino ou V-vespertino ou N-noturno. \n",
        "# Imprima a mensagem “Bom dia!” , \"Boa Tarde\", “Boa Noite” ou “Valor inválido”, conforme o caso. \n",
        "\n",
        "turno = input('Digite o seu turno: M (Matutino) V (Vespertino) N (Noturno) -> ').upper()\n",
        "\n",
        "# Quantidade de letras\n",
        "if(len(turno) == 1):\n",
        "  #Ser tiver so um caracter eu faço\n",
        "  if(turno == 'M' or turno == 'V' or turno == 'N'):\n",
        "    if(turno == 'M'):\n",
        "      print('Bom Dia!!!')\n",
        "    elif(turno == 'V'):\n",
        "      print('Boa Tarde!!!')\n",
        "    else: # elif(turno == 'N'):\n",
        "      print('Boa Noite!!!')\n",
        "  else:\n",
        "    print('Digite um valor válido')\n",
        "else:\n",
        "  print('Digite um valor válido')\n",
        "\n",
        "\n",
        "\n"
      ],
      "metadata": {
        "colab": {
          "base_uri": "https://localhost:8080/"
        },
        "id": "c9HfsI4b4_fe",
        "outputId": "d03c9d7f-b8e7-40ad-cfaf-8fdf40c5a67d"
      },
      "execution_count": 117,
      "outputs": [
        {
          "output_type": "stream",
          "name": "stdout",
          "text": [
            "Digite o seu turno: M (Matutino) V (Vespertino) N (Noturno) -> asd\n",
            "Digite um valor válido\n"
          ]
        }
      ]
    },
    {
      "cell_type": "code",
      "source": [
        "''' \n",
        "As organizações CSM resolveram dar um aumento de salário aos seus colaboradores e lhe contrataram para \n",
        "desenvolver o programa que calculará os reajustes.  \n",
        "\n",
        "  a. Faça um programa que recebe o salário de um colaborador e o reajuste segundo o seguinte critério, baseado no salário atual;\n",
        "  b. Salários até R$ 280,00 (incluindo): aumento de 20%;\n",
        "  c. Salários entre R$ 280,00 e R$700,00: aumento de 15%;\n",
        "  d. Salários entre R$ 700,00 e R$ 1500,00: aumento de 10%;\n",
        "  e. Salários de R$ 1500,00 em diante: aumento de 5%\n",
        "  \n",
        "  Após o aumento ser realizado; informe na tela;\n",
        "\n",
        "  a. O salário antes do reajuste;\n",
        "  b. O percentual de aumento aplicado;\n",
        "  c. O valor do aumento;\n",
        "  d. O novo salário, após o aumento. \n",
        "'''\n",
        "\n",
        "salario = float(input('Digite o seu salário: '))\n",
        "percentual = 0\n",
        "salarioNovo = 0\n",
        "aumento = 0\n",
        "\n",
        "\n",
        "if(salario <= 280):\n",
        "  percentual = 20\n",
        "elif(salario < 700):\n",
        "  percentual = 15\n",
        "elif(salario < 1500):\n",
        "  percentual = 10\n",
        "else:\n",
        "  percentual = 5\n",
        "\n",
        "salarioNovo = salario * (percentual / 100 + 1) \n",
        "aumento = salarioNovo - salario\n",
        "\n",
        "print('a. Salario:  R$', round(salario, 2))\n",
        "print('b. Percentual de aumento: ', percentual, \"%\")\n",
        "print('c. Aumento:  R$', round(aumento, 2))\n",
        "print('d. Novo Salario:  R$', round(salarioNovo,2))\n",
        "\n",
        "\n",
        " "
      ],
      "metadata": {
        "colab": {
          "base_uri": "https://localhost:8080/"
        },
        "id": "XgnIFsXL_obd",
        "outputId": "9ea4ace5-a4f2-496b-84b2-23a339aa8484"
      },
      "execution_count": 128,
      "outputs": [
        {
          "output_type": "stream",
          "name": "stdout",
          "text": [
            "Digite o seu salário: 2859.48\n",
            "a. Salario:  R$ 2859.48\n",
            "b. Percentual de aumento:  5 %\n",
            "c. Aumento:  R$ 142.97\n",
            "d. Novo Salario:  R$ 3002.45\n"
          ]
        }
      ]
    },
    {
      "cell_type": "markdown",
      "source": [
        "# Exercícios \n",
        "\n",
        "1. Escreva\t um\t programa\t para\t ler\t 2\t valores\t (considere\t que\t \t não\t serão\t\n",
        "informados\tvalores\tiguais)\te\tescrever\to\tmaior\tdeles.\n",
        "2. Escreva\t um\t programa\t para\t ler\t o\t ano\t de\t nascimento\t de\t uma\t pessoa\t e\t\n",
        "escrever\t uma\t mensagem\t que\t diga\t se\t ela\t poderá\t ou\t não\t votar\t este\t ano\t\n",
        "(não\té\tnecessário\tconsiderar\to\tmês\tem\tque\tela\tnasceu).\n",
        "3. Escreva\t um\t programa\t que\t verifique\t a\t validade\t de\t uma\t senha\t fornecida\t\n",
        "pelo\t usuário.\t A\t senha\t válida\t é\t o\t número\t 1234.\tDevem\t ser\timpressas\t as\t\n",
        "seguintes\tmensagens:\t\n",
        "ACESSO\tPERMITIDO\tcaso\ta\tsenha\tseja\tválida.\t\n",
        "ACESSO\tNEGADO\tcaso\ta\tsenha\tseja\tinválida.\n",
        "4. As\tmaçãs\t custam\t R$\t 0,30\t cada\t se\t forem\t compradas\tmenos\t do\t que\t uma\t\n",
        "dúzia,\t e\t R$\t 0,25\t se\t forem\t compradas\t pelo\t menos\t doze.\t Escreva\t um\t\n",
        "programa\t que\t leia\t o\t número\t de\t maçãs\t compradas,\t calcule\t e\t escreva\t o\t\n",
        "valor\ttotal\tda\tcompra.\n",
        "5. Escreva\t um\t programa\t para\t ler\t 3\t valores\t inteiros\t (considere\t que\t \t não\t\n",
        "serão\tlidos\tvalores\tiguais)\te\tescrevê-los\tem\tordem\tcrescente.\n",
        "6. Tendo\t como\t entrada\t a\t altura\t e\t o\t sexo\t (codificado\t da\t seguinte\t forma:\t\n",
        "1:feminino\t \t 2:masculino)\t de\t uma\t pessoa,\t construa\t um\t programa\t que\t\n",
        "calcule\te\timprima\tseu\tpeso\tideal,\tutilizando\tas\tseguintes\t\n",
        "Fórmulas:\t\n",
        "- para\thomens:\t(72.7\t*\tAltura)\t– 58\t\n",
        "- para\tmulheres:\t(62.1\t*\tAltura)\t– 44.7\t\n",
        "7. Escreva\tum\tprograma\tpara\tler\to\tnúmero\tde\tlados\tde\tum\tpolígono\tregular\t\n",
        "e\ta\tmedida\tdo\tlado\t(em\tcm).\tCalcular\te\timprimir\to\tseguinte:\t\n",
        "− Se\to\tnúmero\tde\tlados\tfor\tigual\ta\t3\tescrever\tTRIÂNGULO\te\to\tvalor\tda\t\n",
        "área\n",
        "− Se\to\tnúmero\tde\tlados\tfor\tigual\ta\t4\tescrever\tQUADRADO\te\to\tvalor\tda\t\n",
        "sua\tárea.\t\n",
        "− Se\to\tnúmero\tde\tlados\tfor\tigual\ta\t5\tescrever\tPENTÁGONO.\n",
        "8. Acrescente\t as\t seguintes\t mensagens\t à\t solução\t do\t exercício\t anterior\t\n",
        "conforme\to\tcaso.\t\n",
        "− Caso\t o\t número\t de\t lados\t seja\t inferior\t a\t 3\t escrever\t NÃO\t É\t UM\t\n",
        "POLÍGONO.\t\n",
        "− Caso\to\tnúmero\tde\tlados\tseja\tsuperior\ta\t5\tescrever\tPOLÍGONO\tNÃO\t\n",
        "IDENTIFICADO.\n",
        "9. Escreva\tum\tprograma\tpara\tler\t3\tvalores\tinteiros\te\tescrever\to\tmaior\tdeles.\t\n",
        "Considere\tque\to\tusuário\tnão\tinformará\tvalores\tiguais.\n",
        "10. Escreva\t um\t programa que\t leia\t as\t medidas\t dos\t lados\t de\t um\t triângulo\t e\t\n",
        "escreva\tse\tele\té\tEquilátero,\tIsósceles\tou\tEscaleno.\tSendo\tque:\t\n",
        "− Triângulo\tEquilátero:\tpossui\tos\t3\tlados\tiguais.\t\n",
        "− Triângulo\tIsóscele:\tpossui\t2\tlados\tiguais.\t\n",
        "− Triângulo\tEscaleno:\tpossui\t3\tlados\tdiferentes.\n",
        "11. Escreva\t um\t programa\t que\t leia\t o\t valor\t de\t 3\t ângulos\t de\t um\t triângulo\t e\t\n",
        "escreva\t se\t o\t triângulo\t é\t Acutângulo,\t Retângulo\t ou\t Obtusângulo.\t Sendo\t\n",
        "que:\t\n",
        "− Triângulo\tRetângulo:\tpossui\tum\tângulo\treto.\t(igual\ta\t90º)\n",
        "− Triângulo\tObtusângulo:\tpossui\tum\tângulo\tobtuso.\t(maior\tque90º)\t\n",
        "− Triângulo\tAcutângulo:\tpossui\ttrês\tângulos\tagudos.\t(menor\tque\t90º)\n",
        "12. Um posto está vendendo combustíveis com a seguinte tabela de descontos:  \n",
        "\n",
        "Álcool: \n",
        "- Até 20 litros: desconto de 3% por litro\n",
        "- Acima de 20 litros: Desconto de 5% por litro 99.\n",
        "\n",
        "Gasolina: \n",
        "- Até 20 litros: desconto de 4% por litro\n",
        "- Acima de 20 litros, desconto de 6% por litro\n",
        "\n",
        "Escreva um algoritmo que leia o número de litros vendidos, o tipo de combustível (codificado da seguinte forma: A-álcool. G-gasolina), calcule e imprima o valor a ser pago pelo cliente.  "
      ],
      "metadata": {
        "id": "2zctmppgGMjp"
      }
    }
  ]
}