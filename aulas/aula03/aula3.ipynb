{
  "nbformat": 4,
  "nbformat_minor": 0,
  "metadata": {
    "colab": {
      "name": "aula3.ipynb",
      "provenance": []
    },
    "kernelspec": {
      "name": "python3",
      "display_name": "Python 3"
    },
    "language_info": {
      "name": "python"
    }
  },
  "cells": [
    {
      "cell_type": "markdown",
      "source": [
        "# Laço de Repetição -> Estrutura de Repetição -> Loop\n",
        "## FOR\n",
        "\n",
        "### for variavel in range(1, 10):\n"
      ],
      "metadata": {
        "id": "m0d1JsbXcnd6"
      }
    },
    {
      "cell_type": "code",
      "execution_count": 13,
      "metadata": {
        "colab": {
          "base_uri": "https://localhost:8080/"
        },
        "id": "Hh5wlHJBcl3S",
        "outputId": "2fbc7a6d-6b7c-40bd-9f25-bfa7fc3b391b"
      },
      "outputs": [
        {
          "output_type": "stream",
          "name": "stdout",
          "text": [
            "0\n",
            "5\n",
            "10\n"
          ]
        }
      ],
      "source": [
        "# for variavel in range(1, 10):\n",
        "for i in range(0, 15, 5): # i < 10 \n",
        "  #Faça\n",
        "  print(i)"
      ]
    },
    {
      "cell_type": "code",
      "source": [
        "for c in range(10, 0, -1):\n",
        "  print(c)\n",
        "  #Bloco\n",
        "  #De\n",
        "  #Desenv"
      ],
      "metadata": {
        "colab": {
          "base_uri": "https://localhost:8080/"
        },
        "id": "sUELLwegf0HG",
        "outputId": "e6f4bc74-6af0-4c72-9362-c9b169ee544a"
      },
      "execution_count": 16,
      "outputs": [
        {
          "output_type": "stream",
          "name": "stdout",
          "text": [
            "10\n",
            "9\n",
            "8\n",
            "7\n",
            "6\n",
            "5\n",
            "4\n",
            "3\n",
            "2\n",
            "1\n"
          ]
        }
      ]
    },
    {
      "cell_type": "code",
      "source": [
        "for contador in range(0, 5):\n",
        "  #Bloco de Execução\n",
        "  print(\"Bom dia \" , contador)\n",
        "\n",
        "#Fora do Bloco de Execução do for \n",
        "print(\"Acabou o bom dia\")\n",
        "print('Volte ao trabalho')"
      ],
      "metadata": {
        "colab": {
          "base_uri": "https://localhost:8080/"
        },
        "id": "CGuOlGfFgCqo",
        "outputId": "352e9eed-0ac8-4f90-b959-ca543f834c3d"
      },
      "execution_count": 23,
      "outputs": [
        {
          "output_type": "stream",
          "name": "stdout",
          "text": [
            "Bom dia  0\n",
            "Bom dia  1\n",
            "Bom dia  2\n",
            "Bom dia  3\n",
            "Bom dia  4\n",
            "Acabou o bom dia\n",
            "Volte ao trabalho\n"
          ]
        }
      ]
    },
    {
      "cell_type": "code",
      "source": [
        "# Leia um número e exiba os números em ordem crescente até chegar ao número digitado\n",
        "num = int(input('Digite um número: '))\n",
        "\n",
        "for i in range(0, num):\n",
        "  print(i + 1)\n",
        "\n",
        "print('---')\n",
        "\n",
        "for i in range(1, num + 1):\n",
        "  print(i)"
      ],
      "metadata": {
        "colab": {
          "base_uri": "https://localhost:8080/"
        },
        "id": "fDGsZeHog8VE",
        "outputId": "e243c55c-cb38-49d0-ef13-d87f9f3dc870"
      },
      "execution_count": 28,
      "outputs": [
        {
          "output_type": "stream",
          "name": "stdout",
          "text": [
            "Digite um número: 8\n",
            "1\n",
            "2\n",
            "3\n",
            "4\n",
            "5\n",
            "6\n",
            "7\n",
            "8\n",
            "---\n",
            "1\n",
            "2\n",
            "3\n",
            "4\n",
            "5\n",
            "6\n",
            "7\n",
            "8\n"
          ]
        }
      ]
    },
    {
      "cell_type": "code",
      "source": [
        "# Leia o valor inicial e o valor final e exiba um contador entre o numero incial e o final\n",
        "inicial = int(input('Digite o valor incial: '))\n",
        "final = int(input('Digite o valor final: '))\n",
        "\n",
        "if(final > inicial): # Se o valor final for maior que o inicial -> Faça\n",
        "  for i in range(inicial, final + 1): \n",
        "    print(i)\n",
        "else: # Se o valor final for menor que o final -> Faça\n",
        "  #print('ERROR: Digite valores válidos!')\n",
        "  for i in range(final, inicial + 1): \n",
        "    print(i)\n",
        "\n"
      ],
      "metadata": {
        "colab": {
          "base_uri": "https://localhost:8080/"
        },
        "id": "0lg2wi5PiOSr",
        "outputId": "2a155645-ee48-4fd1-cc88-7822d90932b9"
      },
      "execution_count": 40,
      "outputs": [
        {
          "output_type": "stream",
          "name": "stdout",
          "text": [
            "Digite o valor incial: 15\n",
            "Digite o valor final: 5\n",
            "5\n",
            "6\n",
            "7\n",
            "8\n",
            "9\n",
            "10\n",
            "11\n",
            "12\n",
            "13\n",
            "14\n",
            "15\n"
          ]
        }
      ]
    },
    {
      "cell_type": "code",
      "source": [
        "# Receba um número e faça a tabuada com os 20 primeiros números (indices)\n",
        "num = int(input('Digite um número: '))\n",
        "\n",
        "for i in range(0, 21):\n",
        "# print(\"{1} x {2} = {3}\" .format(1, 2, 3))\n",
        "  print(\"{} x {} = {}\" .format(num, i, i * num))\n"
      ],
      "metadata": {
        "colab": {
          "base_uri": "https://localhost:8080/"
        },
        "id": "_C40W66_khRZ",
        "outputId": "b8eac297-5c27-4190-d4d4-d9807e4c9585"
      },
      "execution_count": 49,
      "outputs": [
        {
          "output_type": "stream",
          "name": "stdout",
          "text": [
            "Digite um número: 11\n",
            "11 x 0 = 0\n",
            "11 x 1 = 11\n",
            "11 x 2 = 22\n",
            "11 x 3 = 33\n",
            "11 x 4 = 44\n",
            "11 x 5 = 55\n",
            "11 x 6 = 66\n",
            "11 x 7 = 77\n",
            "11 x 8 = 88\n",
            "11 x 9 = 99\n",
            "11 x 10 = 110\n",
            "11 x 11 = 121\n",
            "11 x 12 = 132\n",
            "11 x 13 = 143\n",
            "11 x 14 = 154\n",
            "11 x 15 = 165\n",
            "11 x 16 = 176\n",
            "11 x 17 = 187\n",
            "11 x 18 = 198\n",
            "11 x 19 = 209\n",
            "11 x 20 = 220\n"
          ]
        }
      ]
    },
    {
      "cell_type": "code",
      "source": [
        "# Leia 4 números e mostre o somatório (usando for)\n",
        "''' \n",
        "num1 = int(input(\"Digite um num: \"))\n",
        "num2 = int(input(\"Digite um num: \"))\n",
        "num3 = int(input(\"Digite um num: \"))\n",
        "num4 = int(input(\"Digite um num: \"))\n",
        "\n",
        "soma = num1 + num2 + num3 + num4\n",
        "\n",
        "print(soma)\n",
        "'''\n",
        "\n",
        "\n",
        "soma = 0\n",
        "for laco in range(4):\n",
        "  n = int(input(\"Digite um num: \"))\n",
        "  soma = soma + n # soma += n\n",
        "print(soma)\n"
      ],
      "metadata": {
        "colab": {
          "base_uri": "https://localhost:8080/"
        },
        "id": "Sgg8_TJ1lgED",
        "outputId": "cf6df2e8-06d2-40e2-fbfa-1acb11ad5689"
      },
      "execution_count": 60,
      "outputs": [
        {
          "output_type": "stream",
          "name": "stdout",
          "text": [
            "Digite um num: 1\n",
            "Digite um num: 2\n",
            "Digite um num: 3\n",
            "Digite um num: 4\n",
            "10\n"
          ]
        }
      ]
    },
    {
      "cell_type": "code",
      "source": [
        "# Mostre todos os números pares entre 1 e 250 \n",
        "for i in range(1, 251):\n",
        "  if(i % 2 == 0):\n",
        "    print(i)"
      ],
      "metadata": {
        "colab": {
          "base_uri": "https://localhost:8080/"
        },
        "id": "2XgZXHjgqxi-",
        "outputId": "a26367f9-9b01-4a0e-dd2b-e082eb49e53d"
      },
      "execution_count": 72,
      "outputs": [
        {
          "output_type": "stream",
          "name": "stdout",
          "text": [
            "2\n",
            "4\n",
            "6\n",
            "8\n",
            "10\n",
            "12\n",
            "14\n",
            "16\n",
            "18\n",
            "20\n",
            "22\n",
            "24\n",
            "26\n",
            "28\n",
            "30\n",
            "32\n",
            "34\n",
            "36\n",
            "38\n",
            "40\n",
            "42\n",
            "44\n",
            "46\n",
            "48\n",
            "50\n",
            "52\n",
            "54\n",
            "56\n",
            "58\n",
            "60\n",
            "62\n",
            "64\n",
            "66\n",
            "68\n",
            "70\n",
            "72\n",
            "74\n",
            "76\n",
            "78\n",
            "80\n",
            "82\n",
            "84\n",
            "86\n",
            "88\n",
            "90\n",
            "92\n",
            "94\n",
            "96\n",
            "98\n",
            "100\n",
            "102\n",
            "104\n",
            "106\n",
            "108\n",
            "110\n",
            "112\n",
            "114\n",
            "116\n",
            "118\n",
            "120\n",
            "122\n",
            "124\n",
            "126\n",
            "128\n",
            "130\n",
            "132\n",
            "134\n",
            "136\n",
            "138\n",
            "140\n",
            "142\n",
            "144\n",
            "146\n",
            "148\n",
            "150\n",
            "152\n",
            "154\n",
            "156\n",
            "158\n",
            "160\n",
            "162\n",
            "164\n",
            "166\n",
            "168\n",
            "170\n",
            "172\n",
            "174\n",
            "176\n",
            "178\n",
            "180\n",
            "182\n",
            "184\n",
            "186\n",
            "188\n",
            "190\n",
            "192\n",
            "194\n",
            "196\n",
            "198\n",
            "200\n",
            "202\n",
            "204\n",
            "206\n",
            "208\n",
            "210\n",
            "212\n",
            "214\n",
            "216\n",
            "218\n",
            "220\n",
            "222\n",
            "224\n",
            "226\n",
            "228\n",
            "230\n",
            "232\n",
            "234\n",
            "236\n",
            "238\n",
            "240\n",
            "242\n",
            "244\n",
            "246\n",
            "248\n",
            "250\n"
          ]
        }
      ]
    },
    {
      "cell_type": "code",
      "source": [
        "# Leia um valor e exiba a quantidade de números impares entre 1 e o número lido\n",
        "\n",
        "num = int(input('Digite um valor: '))\n",
        "if(num > 1):\n",
        "  for i in range(1, num + 1):\n",
        "    if(i % 2 != 0): # if(i % 2 == 1): \n",
        "      print(i)\n",
        "else:\n",
        "  print('Digite um valor maior que 1')\n",
        "\n",
        "\n",
        "\n"
      ],
      "metadata": {
        "colab": {
          "base_uri": "https://localhost:8080/"
        },
        "id": "Mdhgdo8psbPs",
        "outputId": "a90a2a73-9be9-4129-a84d-26bc331b0924"
      },
      "execution_count": 85,
      "outputs": [
        {
          "output_type": "stream",
          "name": "stdout",
          "text": [
            "Digite um valor: 21\n",
            "1\n",
            "3\n",
            "5\n",
            "7\n",
            "9\n",
            "11\n",
            "13\n",
            "15\n",
            "17\n",
            "19\n",
            "21\n"
          ]
        }
      ]
    },
    {
      "cell_type": "code",
      "source": [
        "# Leia um número e faça a soma dos números ímpares e que sejam múltiplos de 3 entre 1 e o número lido\n",
        "num = int(input('Digite um valor: '))\n",
        "soma = 0\n",
        "\n",
        "for i in range(1, num + 1):\n",
        "  if( i % 2 != 0 and i % 3 == 0):\n",
        "    soma += i\n",
        "print(soma)\n",
        "\n"
      ],
      "metadata": {
        "colab": {
          "base_uri": "https://localhost:8080/"
        },
        "id": "ExvbRNW0uC5z",
        "outputId": "a05d45ad-4053-4e1f-b0ff-7df9d8568cf4"
      },
      "execution_count": 96,
      "outputs": [
        {
          "output_type": "stream",
          "name": "stdout",
          "text": [
            "Digite um valor: 100\n",
            "867\n"
          ]
        }
      ]
    },
    {
      "cell_type": "code",
      "source": [
        "#Leia 5 número e exiba  a soma deles, o menor número e o maior numero\n",
        "soma = 0\n",
        "maior = 0 # 15\n",
        "menor = 10000000\n",
        "\n",
        "for num in range(5):\n",
        "  n = int(input('Digite um numero: '))\n",
        "  soma = soma + n\n",
        "  if(n > maior):\n",
        "    maior = n \n",
        "\n",
        "  if(n < menor): \n",
        "    #bloco de execução\n",
        "    menor = n\n",
        "\n",
        "print('O somatório dos números foi {} \\nO maior número foi {} \\nO menor número foi {}' .format(soma, maior, menor))"
      ],
      "metadata": {
        "colab": {
          "base_uri": "https://localhost:8080/"
        },
        "id": "R6ADjoVSwPf1",
        "outputId": "f8864d7d-f0e0-4670-85d6-66552673b932"
      },
      "execution_count": 106,
      "outputs": [
        {
          "output_type": "stream",
          "name": "stdout",
          "text": [
            "Digite um numero: 1\n",
            "Digite um numero: 2\n",
            "Digite um numero: 3\n",
            "Digite um numero: 4\n",
            "Digite um numero: 5\n",
            "O somatório dos números foi 15 \n",
            "O maior número foi 5 \n",
            "O menor número foi 1\n"
          ]
        }
      ]
    },
    {
      "cell_type": "markdown",
      "source": [
        "# Exercício\n",
        "\n",
        "### Leia o nome, idade e sexo de  5 pessoas. Exiba ao final \n",
        "  - A média das idades\n",
        "  - Qual o nome dos mais novo\n",
        "  - Quantas mulheres tem mais de 20 anos"
      ],
      "metadata": {
        "id": "u0MX3LG_0mXU"
      }
    },
    {
      "cell_type": "code",
      "source": [
        ""
      ],
      "metadata": {
        "id": "FU1hZ9la0nF-"
      },
      "execution_count": null,
      "outputs": []
    }
  ]
}