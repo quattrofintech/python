{
 "cells": [
  {
   "cell_type": "markdown",
   "metadata": {},
   "source": [
    "# Python\n",
    "## Revisão"
   ]
  },
  {
   "cell_type": "code",
   "execution_count": 10,
   "metadata": {},
   "outputs": [
    {
     "name": "stdout",
     "output_type": "stream",
     "text": [
      "Você está fora do orçamento. Cuidado!\n"
     ]
    }
   ],
   "source": [
    "''' \n",
    "    Faça um programa que o usuário informe o salário recebido e o total gasto.\n",
    "    Deverá ser exibido na tela “Gastos dentro do orçamento” caso o valor gasto não\n",
    "    ultrapasse o valor do salário e “Orçamento estourado” se o valor gasto\n",
    "    ultrapassar o valor do salário.    \n",
    "\n",
    "'''\n",
    "\n",
    "# PRA ONDE VOU -> FUNÇÃO DO MEU PROGRAMA (ENUNCIADO) \n",
    "# COMO VOU -> COMO EU FAÇO PARA CHEGAR LÁ\n",
    "\n",
    "\n",
    "'''  \n",
    "                    O QUE TENHO QUE FAZER ?\n",
    "    que mostrar pro usuario se ele estorou ou não o orçamento\n",
    "\n",
    "'''\n",
    "\n",
    "'''\n",
    "                       COMO VOU FAZER ?\n",
    "    primeiro eu tenho que receber os valores (variaveis)\n",
    "'''\n",
    "def responderUsuario(msg):\n",
    "    print(msg)\n",
    "\n",
    "def receberDadosUsuario(msg):\n",
    "    return float(input(msg))\n",
    "\n",
    "def verificaGasto(sal, gasto, test):\n",
    "    if(gasto <= sal):\n",
    "        responderUsuario('Você está dentro do orçamento')\n",
    "    else:\n",
    "        responderUsuario('Você está fora do orçamento. Cuidado!')\n",
    "\n",
    "salario = receberDadosUsuario('Digite o seu salário: ')\n",
    "gasto = receberDadosUsuario('Digite o total dos seus gastos: ')\n",
    "\n",
    "verificaGasto(salario, gasto)\n"
   ]
  },
  {
   "cell_type": "code",
   "execution_count": 24,
   "metadata": {},
   "outputs": [
    {
     "name": "stdout",
     "output_type": "stream",
     "text": [
      "A média ponderada é 22.22\n"
     ]
    }
   ],
   "source": [
    "''' \n",
    "    Escrever um programa em Python que lê um valor i, inteiro e positivo e 3 valores a, b e c. Se o valor de i é par então calcular e imprimir na tela a média aritmética de a, b e c. Caso contrário, se i>10 então calcular e imprimir na tela a média ponderada de a, b e c. Os pesos dos valores são respectivamente 2, 3 e 4.\n",
    "'''\n",
    "\n",
    "''' \n",
    "        PRA ONDE VOU ? \n",
    "    imprimir a media de a + b + c \n",
    "    se i for par media arit\n",
    "    se for i > 10 e impar media pond\n",
    "\n",
    "'''\n",
    "\n",
    "''' \n",
    "        COMO EU VOU ?\n",
    "'''\n",
    "\n",
    "def receberDados(msg):\n",
    "    return input(msg)\n",
    "\n",
    "def verificaInteiro(valor):\n",
    "    if(valor.isnumeric()):\n",
    "        if(int(valor) >= 0):\n",
    "            return True\n",
    "        else:\n",
    "            return False\n",
    "    else:\n",
    "        return False\n",
    "\n",
    "def converteInInt(valor):\n",
    "    return int(valor)\n",
    "\n",
    "while(True):\n",
    "    i = receberDados('Digite um número inteiro: ')\n",
    "    if(verificaInteiro(i)):\n",
    "        i = converteInInt(i)\n",
    "        break\n",
    "    else:\n",
    "        print('Não é um numero inteiro e positivo')\n",
    "\n",
    "a = converteInInt(receberDados('Digite o valor de a: '))\n",
    "b = converteInInt(receberDados('Digite o valor de b: '))\n",
    "c = converteInInt(receberDados('Digite o valor de c: '))\n",
    "\n",
    "\n",
    "if(i % 2 == 0):\n",
    "    media = (a + b + c) / 3\n",
    "    print(f'A média aritmetica é {media}')\n",
    "elif(i > 10): #                 30 * 4 = 120 / 9 = 13,3333\n",
    "    media = ((a * 2) + (b * 3) + (c * 4)) / 9\n",
    "    print(f'A média ponderada é {round(media, 2)}')\n",
    "else:\n",
    "    print('tchau')"
   ]
  },
  {
   "cell_type": "code",
   "execution_count": 31,
   "metadata": {},
   "outputs": [
    {
     "name": "stdout",
     "output_type": "stream",
     "text": [
      "Fahrenheit to Celsius\n",
      "104.0°F são 40.0°C\n"
     ]
    }
   ],
   "source": [
    "''' \n",
    "    Faça um programa onde o usuário irá escolhe se que Converte graus Celsius para Fahrenheit ou Fahrenheit para Celsius.\t\n",
    "'''\n",
    "\n",
    "''' \n",
    "        PRA ONDE VOU ? \n",
    "    CONVERTER TEMPERATURAS\n",
    "\n",
    "'''\n",
    "''' \n",
    "        COMO VOU FAZER?\n",
    "    Primeiro usuario e depois receber a temperatura e converter\n",
    "\n",
    "'''\n",
    "\n",
    "menu = int(input(' 1 - Celsius para Fahrenheit \\n 2 - Fahrenheit para Celsius \\n 3 - Sair \\n R: '))\n",
    "if(menu == 1):\n",
    "    print('Celsius to Fahrenheit')\n",
    "    celsius = float(input('Digite a temperatura em Celsius: '))\n",
    "    formula = (celsius * (9/5) + 32) # (X°C × (9/5)) + 32 = \n",
    "    print(f'{celsius}°C são {formula}°F')\n",
    "elif(menu == 2):\n",
    "    print('Fahrenheit to Celsius')\n",
    "    fahrenheit = float(input('Digite a temperatura em Fahrenheit: '))\n",
    "    formula = (fahrenheit - 32) * (5/9) # (X°F − 32) × (5/9) = \n",
    "    print(f'{fahrenheit}°F são {formula}°C')   \n",
    "else:\n",
    "    print('Tchau')"
   ]
  },
  {
   "cell_type": "code",
   "execution_count": 46,
   "metadata": {},
   "outputs": [
    {
     "name": "stdout",
     "output_type": "stream",
     "text": [
      "(2, 4, 6, 8, 10, 12, 14, 16, 18, 20, 22, 24, 26, 28, 30, 32, 34, 36, 38, 40, 42, 44, 46, 48, 50, 52, 54, 56, 58, 60, 62, 64, 66, 68, 70, 72, 74, 76, 78, 80, 82, 84, 86, 88, 90, 92, 94, 96, 98, 100)\n"
     ]
    }
   ],
   "source": [
    "# Fazer um programa para encontrar todos os números pares entre 1 e 100.\n",
    "\n",
    "'''for i in range(1, 101):\n",
    "    if(i % 2 == 0):\n",
    "        print(i)'''\n",
    "\n",
    "'''numeros = 1\n",
    "while(numeros <= 100):\n",
    "    if(numeros % 2 == 0):\n",
    "        print(numeros)\n",
    "    numeros += 1 '''\n",
    "\n",
    "'''numero = []\n",
    "for i in range(1, 101):\n",
    "    if(i % 2 == 0):\n",
    "        numero.append(i)\n",
    "print(numero)'''\n",
    "\n",
    "numerosPares = ''\n",
    "for i in range(1, 101):\n",
    "    if(i % 2 == 0):\n",
    "        if(i == 2):\n",
    "            numerosPares += f'({i}, '\n",
    "        elif(i == 100):\n",
    "            numerosPares += f'{i})'\n",
    "        else:\n",
    "            numerosPares += f'{i}, '\n",
    "\n",
    "print(numerosPares)"
   ]
  },
  {
   "cell_type": "code",
   "execution_count": 4,
   "metadata": {},
   "outputs": [
    {
     "name": "stdout",
     "output_type": "stream",
     "text": [
      "1 números estão no intervalor\n",
      "9 números não estão no intervalor\n"
     ]
    }
   ],
   "source": [
    "# Utilizando a estrutura de repetição for, faça um programa em C que receba 10 números e conte quantos deles estão no intervalo [10,20] e quantos deles estão fora do intervalo, escrevendo estas informações.\n",
    "\n",
    "\n",
    "# CONTAR E EXIBIR A QNT DE NUMEROS FORA E DENTRO DO INTERVALO\n",
    "noIntervalo = 0\n",
    "foraDoIntervalo = 0\n",
    "\n",
    "for i in range(10):\n",
    "    numero = int(input('Digite um número: '))\n",
    "    if(20 >= numero >= 10):\n",
    "        noIntervalo += 1\n",
    "    else:\n",
    "        foraDoIntervalo += 1\n",
    "\n",
    "print(f'{noIntervalo} números estão no intervalor')\n",
    "print(f'{foraDoIntervalo} números não estão no intervalor')"
   ]
  }
 ],
 "metadata": {
  "kernelspec": {
   "display_name": "Python 3.9.2 64-bit",
   "language": "python",
   "name": "python3"
  },
  "language_info": {
   "codemirror_mode": {
    "name": "ipython",
    "version": 3
   },
   "file_extension": ".py",
   "mimetype": "text/x-python",
   "name": "python",
   "nbconvert_exporter": "python",
   "pygments_lexer": "ipython3",
   "version": "3.9.2"
  },
  "orig_nbformat": 4,
  "vscode": {
   "interpreter": {
    "hash": "916dbcbb3f70747c44a77c7bcd40155683ae19c65e1c03b4aa3499c5328201f1"
   }
  }
 },
 "nbformat": 4,
 "nbformat_minor": 2
}
