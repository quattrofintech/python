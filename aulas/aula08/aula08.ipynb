{
  "nbformat": 4,
  "nbformat_minor": 0,
  "metadata": {
    "colab": {
      "name": "aula08.ipynb",
      "provenance": []
    },
    "kernelspec": {
      "name": "python3",
      "display_name": "Python 3"
    },
    "language_info": {
      "name": "python"
    }
  },
  "cells": [
    {
      "cell_type": "markdown",
      "source": [
        "\n",
        "# Python\n",
        "\n",
        "## Exercícios Lista e Funções\n",
        "\n"
      ],
      "metadata": {
        "id": "JJESH5LCt2Eg"
      }
    },
    {
      "cell_type": "markdown",
      "source": [
        "Ler um vetor com 10 nomes de pessoas, após pedir que o usuário digite um nome qualquer de\n",
        "pessoa. Escrever a mensagem “ACHEI”, se o nome estiver armazenado no vetor C ou “NÃO ACHEI”\n",
        "caso contrário. "
      ],
      "metadata": {
        "id": "tPGepkg9txki"
      }
    },
    {
      "cell_type": "code",
      "source": [
        "def perguntaNome(msg): # Criei uma função para receber inputs\n",
        "  return input(msg)\n",
        "\n",
        "nomes = [] # eu criei um vetor \n",
        "\n",
        "for i in range(3):\n",
        "  nomes.append(perguntaNome(\"Cadastre um nome: \"))\n",
        "\n",
        "nome = perguntaNome(\"Pesquise um nome: \")\n",
        "\n",
        "if nome in nomes :\n",
        "  print(\"Achei\")\n",
        "else:\n",
        "  print('Não achei')"
      ],
      "metadata": {
        "colab": {
          "base_uri": "https://localhost:8080/"
        },
        "id": "VBxLGL_bu-ye",
        "outputId": "bc43ee90-e191-45b5-9b45-812d33109916"
      },
      "execution_count": 6,
      "outputs": [
        {
          "output_type": "stream",
          "name": "stdout",
          "text": [
            "Cadastre um nome: Gabriel\n",
            "Cadastre um nome: Mateus\n",
            "Cadastre um nome: Lorhana\n",
            "Pesquise um nome: Mateus\n",
            "Achei\n"
          ]
        }
      ]
    },
    {
      "cell_type": "code",
      "source": [
        "''' \n",
        "1. Faca um programa que possua um vetor denominado A que armazene 6 numeros intei- ´\n",
        "ros. O programa deve executar os seguintes passos:\n",
        "    (a) Atribua os seguintes valores a esse vetor: 1, 0, 5, -2, -5, 7.\n",
        "    (b) Armazene em uma variavel inteira (simples) a soma entre os valores das posic¸ ´ oes ˜\n",
        "    A[0], A[1] e A[5] do vetor e mostre na tela esta soma.\n",
        "    (c) Modifique o vetor na posic¸ao 4, atribuindo a esta posic¸ ˜ ao o valor 100. ˜\n",
        "    (d) Mostre na tela cada valor do vetor A, um em cada linha.\n",
        "\n",
        "'''\n",
        "def somarLista(x, y, z):\n",
        "  return A[x] + A[y] + A[z]\n",
        "\n",
        "def alterarLista(indice, valor):\n",
        "    A[indice] = valor\n",
        "\n",
        "def listarItens():\n",
        "  print('LISTA')\n",
        "  for valor in A:\n",
        "    print(valor)\n",
        "\n",
        "A = [1, 0, 5, -2, -5, 7]\n",
        "\n",
        "soma = somarLista(0, 1, 5)\n",
        "print(f'O total do somatório foi {soma}')\n",
        "\n",
        "# Alterar o valor da lista pelo indice\n",
        "alterarLista(4, 100)\n",
        "\n",
        "# Exibir cada valor da lista em uma linha \n",
        "listarItens()\n"
      ],
      "metadata": {
        "colab": {
          "base_uri": "https://localhost:8080/"
        },
        "id": "f7zC-qOdxIsD",
        "outputId": "35e1add2-256e-4348-f5fa-dcc938ed69db"
      },
      "execution_count": 13,
      "outputs": [
        {
          "output_type": "stream",
          "name": "stdout",
          "text": [
            "O total do somatório foi 8\n",
            "LISTA\n",
            "1\n",
            "0\n",
            "5\n",
            "-2\n",
            "100\n",
            "7\n"
          ]
        }
      ]
    },
    {
      "cell_type": "code",
      "source": [
        "# 2. Crie um programa que le 6 valores inteiros e, em seguida, mostre na tela os valores lidos.\n",
        "def testarInteiro(teste):\n",
        "  while(True):\n",
        "    if(teste.isnumeric()):\n",
        "      return int(teste)\n",
        "    else:\n",
        "      teste = input('Digite um número inteiro R:')\n",
        "\n",
        "\n",
        "def receberValores():\n",
        "  valor = input('Digite um número inteiro R: ')\n",
        "  return testarInteiro(valor)\n",
        "\n",
        "def salvarValores(qnt):\n",
        "  for i in range(qnt):\n",
        "    valores.append(receberValores())\n",
        "\n",
        "valores = []\n",
        "\n",
        "salvarValores(6)\n",
        "print(valores)"
      ],
      "metadata": {
        "colab": {
          "base_uri": "https://localhost:8080/"
        },
        "id": "xPbhHBR3z450",
        "outputId": "8454a4bd-4ebc-40c8-c304-fce98907d212"
      },
      "execution_count": 16,
      "outputs": [
        {
          "output_type": "stream",
          "name": "stdout",
          "text": [
            "Digite um número inteiro R: ajhgsvdhasd\n",
            "Digite um número inteiro R:aslkdhblajkhsbdas\n",
            "Digite um número inteiro R:asjhdvbajlhsvdbasd\n",
            "Digite um número inteiro R:havbsdlhjkvashdj\n",
            "Digite um número inteiro R:baksjbdhjkasbd\n",
            "Digite um número inteiro R:aljhsdvbjhlasvdlasd\n",
            "Digite um número inteiro R:asjvdljhgavsdas\n",
            "Digite um número inteiro R:alsjhdvaljhsvdhajsd\n",
            "Digite um número inteiro R:asjhdvaskjhdvhjasd\n",
            "Digite um número inteiro R:15\n",
            "Digite um número inteiro R: 6\n",
            "Digite um número inteiro R: 3\n",
            "Digite um número inteiro R: 98\n",
            "Digite um número inteiro R: 12\n",
            "Digite um número inteiro R: ajshgdvjasd\n",
            "Digite um número inteiro R:asivbq\n",
            "Digite um número inteiro R:fhbvasdfhja\n",
            "Digite um número inteiro R:ashjkvbdasf\n",
            "Digite um número inteiro R:sdfjkhbasljhdfa\n",
            "Digite um número inteiro R:ajlshvflhjf\n",
            "Digite um número inteiro R:2\n",
            "[15, 6, 3, 98, 12, 2]\n"
          ]
        }
      ]
    },
    {
      "cell_type": "code",
      "source": [
        "''' \n",
        "    3. Ler um conjunto de numeros reais, armazenando-o em vetor e calcular o quadrado das ´\n",
        "    componentes deste vetor, armazenando o resultado em outro vetor. Os conjuntos temˆ\n",
        "    10 elementos cada. Imprimir todos os conjuntos.\n",
        "'''\n",
        "def lerNumerosReais():\n",
        "  return float(input(\"Digite um número: \"))\n",
        "\n",
        "def gravarNumeros(qnt):\n",
        "  for i in range(qnt):\n",
        "    numeros.append(lerNumerosReais())\n",
        "  gerarQuadradoNumeros()\n",
        "\n",
        "def gerarQuadradoNumeros():\n",
        "  for i in range(len(numeros)):\n",
        "    numerosQuadrados.append(numeros[i] * numeros[i])\n",
        "\n",
        "numeros = []\n",
        "numerosQuadrados = []\n",
        "\n",
        "\n",
        "gravarNumeros(3)\n",
        "print(numeros)\n",
        "print(numerosQuadrados)"
      ],
      "metadata": {
        "colab": {
          "base_uri": "https://localhost:8080/"
        },
        "id": "IitOobCb11AP",
        "outputId": "231e4971-87a7-49d5-96b3-3eadc7c80da1"
      },
      "execution_count": 22,
      "outputs": [
        {
          "output_type": "stream",
          "name": "stdout",
          "text": [
            "Digite um número: 15\n",
            "Digite um número: 20\n",
            "Digite um número: 100\n",
            "[15.0, 20.0, 100.0]\n",
            "[225.0, 400.0, 10000.0]\n"
          ]
        }
      ]
    },
    {
      "cell_type": "code",
      "source": [
        "''' \n",
        "    4. Fazer um menu de uma plataforma que pode LOGAR, CADASTRAR, LISTAR USUARIO / SENHA e  SAIR\n",
        "    (a) Login -> Usuario e Senha\n",
        "        (1) Usuário deve ser encontrado no banco\n",
        "        (2) Senha deve ser igual a do usuário do banco\n",
        "        (3) Exibir error se o usuário não for encontrado\n",
        "        (4) Exibir erro de senha, se não for igual\n",
        "        (5) Exibir msg logado\n",
        "    (b) Cadastrar -> Usuário, senha e confirmar senha \n",
        "        (1) Usuário deve ser único no banco\n",
        "        (2) Senhas deve ser iguais, maiores que 5 caracteres e alfanumericos\n",
        "        (3) Exibir error se o usuário ja estiver cadastrado e pedir para usar novo Usuário\n",
        "        (4) Exibir erro de senha, se for menor que 6 e se não forem iguais \n",
        "        (5) Exibir msg de cadastrado e Voltar para o menu de login\n",
        "    (c) Listar Usuario e Senha\n",
        "        (1) Nome ususario -  *******\n",
        "    (d) SAIR\n",
        "''' \n",
        "def linhas(qnt):\n",
        "  print('=' * (qnt + 1))\n",
        "\n",
        "def exibirMensagem(msg):\n",
        "  linhas(len(msg))\n",
        "  print(msg)\n",
        "  linhas(len(msg))\n",
        "\n",
        "def menu():\n",
        "  exibirMensagem('PADARIA SONHO DOCE')\n",
        "  return int(input(' 1 - LOGAR \\n 2 - CADASTRAR \\n 3 - LISTAR \\n 4 - SAIR \\n R: '))\n",
        "\n",
        "def listarUsuario():\n",
        "  exibirMensagem('LISTA DE USUÁRIOS')\n",
        "  for i in range(len(usuarios)): #3\n",
        "    print(f'Usuário {usuarios[i]} - Senha: {senhas[i]}' )\n",
        "  linhas(20)\n",
        "\n",
        "def receberDadosDoUsuário(msg):\n",
        "  return input(msg)\n",
        "  \n",
        "def verificaUsuario(usuario):\n",
        "  if (usuario in usuarios):\n",
        "    return True\n",
        "  else:\n",
        "    return False\n",
        "#                  Kenji\n",
        "def verificaSenha(usuario, senha):\n",
        "    if(usuario in usuarios):\n",
        "      indice = usuarios.index(usuario) # Retornar o indice do Kenji = 0\n",
        "      if(senha == senhas[indice]): # Verifica se a senha[0] é igual a senha digitada\n",
        "          return True\n",
        "      else:\n",
        "        return False\n",
        "    else:\n",
        "      return False\n",
        "\n",
        "def logar():\n",
        "  usuario = receberDadosDoUsuário('Digite seu nome de usuário R: ')\n",
        "  if(not verificaUsuario(usuario)):\n",
        "    exibirMensagem('ERROR: Usuário não encontrado!')\n",
        "    return False\n",
        "  else:\n",
        "    senha = receberDadosDoUsuário('Digite a sua senha R: ')\n",
        "    if(not verificaSenha(usuario, senha)):\n",
        "      exibirMensagem('ERROR: Senha incorreta!')\n",
        "      return False\n",
        "    else:\n",
        "      return True\n",
        "\n",
        "def cadastrar():\n",
        "  while(True):\n",
        "    usuario = receberDadosDoUsuário('Digite seu nome de usuário R: ')\n",
        "    if(verificaUsuario(usuario)):\n",
        "      exibirMensagem('ERROR: Usuário já é cadastrado.\\nEscolha outro nome de usuário!')\n",
        "    else:\n",
        "      senha = receberDadosDoUsuário('Digite sua senha R: ')\n",
        "      if(len(senha) < 6 or not senha.isalnum()):\n",
        "        exibirMensagem('ERROR: Senha deve ter mais de 6 caracteres e ser alfanumerica')\n",
        "      else:\n",
        "        confirmaSenha = receberDadosDoUsuário('Confirme a senha R: ')\n",
        "        if(senha != confirmaSenha):\n",
        "          exibirMensagem('As senhas devem ser identicas')\n",
        "        else:\n",
        "          usuarios.append(usuario)\n",
        "          senhas.append(senha)\n",
        "          exibirMensagem(f'Usuário {usuario} cadastrado com sucesso')\n",
        "          break\n",
        "\n",
        "escolhaDoMenu = 0\n",
        "#             0        1\n",
        "usuarios = ['Kenji', 'Akio']\n",
        "senhas =  ['123456987', '2580']\n",
        "\n",
        "while(True):\n",
        "  escolhaDoMenu = menu()\n",
        "  if(escolhaDoMenu == 1):\n",
        "    if(logar()):\n",
        "      exibirMensagem('Usuario conectado com sucesso!')\n",
        "      break\n",
        "  elif(escolhaDoMenu == 2):\n",
        "    cadastrar()\n",
        "  elif(escolhaDoMenu == 3):\n",
        "    listarUsuario()\n",
        "  else:\n",
        "    print('Sair')\n",
        "    break\n",
        "  "
      ],
      "metadata": {
        "colab": {
          "base_uri": "https://localhost:8080/"
        },
        "id": "T-9mHlVr4Fvj",
        "outputId": "024c1906-f4cf-4366-c5ba-66700a103824"
      },
      "execution_count": 40,
      "outputs": [
        {
          "output_type": "stream",
          "name": "stdout",
          "text": [
            "===================\n",
            "PADARIA SONHO DOCE\n",
            "===================\n",
            " 1 - LOGAR \n",
            " 2 - CADASTRAR \n",
            " 3 - LISTAR \n",
            " 4 - SAIR \n",
            " R: 5\n",
            "Sair\n"
          ]
        }
      ]
    },
    {
      "cell_type": "code",
      "source": [
        ""
      ],
      "metadata": {
        "id": "7s9-8ryP46Z_"
      },
      "execution_count": null,
      "outputs": []
    },
    {
      "cell_type": "markdown",
      "source": [
        "## EXERCÍCIOS\n",
        "\n",
        "\n",
        "4. Faça um programa que leia um vetor de 8 posições e, em seguida, leia também dois valores X e Y quaisquer correspondentes a duas posições no vetor. Ao final, seu programa deverá escrever a soma dos valores encontrados nas respectivas posições  X e Y .\n",
        "5. Leia um vetor de 10 posições. Contar e escrever quantos valores pares ele possui. \n",
        "6. Faça um programa que receba do usuário um vetor com 10 posições. Em seguida, deverá ser impresso o maior e o menor elemento do vetor.\n",
        "7. Escreva um programa que leia 10 números inteiros e os armazene em um vetor. Imprima o vetor, o maior elemento e a posição que ele se encontra.\n",
        "8. Crie um programa que lê 6 valores inteiros e, em seguida, mostre na tela os valores lidos na ordem inversa.\n",
        "9. Crie um programa que lê 6 valores inteiros pares e, em seguida, mostre na tela os valores lidos na ordem inversa.\n",
        "10. Faça um programa para ler a nota da prova de 15 alunos e armazene num vetor, calcule e imprima a média geral. \n",
        "11. Faça um programa que preencha um vetor com 10 números reais, calcule e mostre a quantidade de números negativos e a soma dos números positivos desse vetor.\n",
        "12. Fazer um programa para ler 5 valores e, em seguida, mostrar todos os valores lidos juntamente com o maior, o menor e a média dos valores.\n",
        "13. Fazer um programa para ler 5 valores e, em seguida, mostrar a posição onde se encontram o maior e o menor valor.\n",
        "14. Faça um programa que leia um vetor de 10 posições e verifique se existem valores iguais e os escreva na tela.\n",
        "15. Leia um vetor com 20 números inteiros. Escreva os elementos do vetor eliminando elementos repetidos.\n",
        "16. Faça um programa que leia um vetor de 5 posições para números reais e, depois, um código inteiro. Se o código for zero, finalize o programa; se for 1, mostre o vetor na ordem direta; se for 2, mostre o vetor na ordem inversa. Caso o código for diferente de 1 e 2 escreva uma mensagem informando que o código é inválido. \n",
        "17. Leia um vetor de 10 posições e atribua valor 0 para todos os elementos que possuírem\n",
        "valores negativos.\n",
        "18. Escreva um programa que leia números inteiros no intervalo [0,50] e os armazene em um vetor com 10 posições. Preencha um segundo vetor apenas com os números ímpares do primeiro vetor. Imprima os dois vetores, 2 elementos por linha.\n"
      ],
      "metadata": {
        "id": "KYgTcnmXEvoT"
      }
    },
    {
      "cell_type": "code",
      "source": [
        ""
      ],
      "metadata": {
        "id": "jwXomqPrEw8T"
      },
      "execution_count": null,
      "outputs": []
    }
  ]
}