{
  "nbformat": 4,
  "nbformat_minor": 0,
  "metadata": {
    "colab": {
      "name": "aula06.ipynb",
      "provenance": [],
      "collapsed_sections": []
    },
    "kernelspec": {
      "name": "python3",
      "display_name": "Python 3"
    },
    "language_info": {
      "name": "python"
    }
  },
  "cells": [
    {
      "cell_type": "markdown",
      "source": [
        "# Python\n"
      ],
      "metadata": {
        "id": "sB0ntSsAelgv"
      }
    },
    {
      "cell_type": "markdown",
      "source": [
        "## Funções"
      ],
      "metadata": {
        "id": "aO31A5xlertc"
      }
    },
    {
      "cell_type": "code",
      "source": [
        "# DELCARAÇÃO \n",
        "def nomeDaFuncao(): \n",
        "  #Bloco de Execução\n",
        "  print(\"-----\" * 5)\n",
        "  print(\"FUNÇÃO DECLARADA\")\n",
        "  print(\"-----\" * 5)\n",
        "\n",
        "nomeDaFuncao()\n",
        "\n",
        "\n",
        "\n"
      ],
      "metadata": {
        "colab": {
          "base_uri": "https://localhost:8080/"
        },
        "id": "sKRbgWX_etX8",
        "outputId": "b9122743-9a3d-46c4-b692-41cf1884d227"
      },
      "execution_count": null,
      "outputs": [
        {
          "output_type": "stream",
          "name": "stdout",
          "text": [
            "-------------------------\n",
            "FUNÇÃO DECLARADA\n",
            "-------------------------\n"
          ]
        }
      ]
    },
    {
      "cell_type": "code",
      "source": [
        "# Função com parametro\n",
        "def mostraTexto(txt):\n",
        "  print(txt)\n",
        "\n",
        "def mostraIdadeNome(id, nome):\n",
        "  print(\"{} tem {} anos\" .format(nome, id))\n",
        "\n",
        "texto = mostraIdadeNome(18, \"Davi\")\n",
        "print(\"RETORNO: \" , texto)\n",
        "mostraIdadeNome(18, \"Davi\")\n",
        "mostraTexto(\"Exibe um texto\")\n",
        "mostraTexto(\"Exibe\")\n",
        "mostraIdadeNome(25, \"Kenji\")"
      ],
      "metadata": {
        "colab": {
          "base_uri": "https://localhost:8080/"
        },
        "id": "l9RUGk6giJFZ",
        "outputId": "088a691e-f22a-46dd-931f-3f12b6b1dea0"
      },
      "execution_count": null,
      "outputs": [
        {
          "output_type": "stream",
          "name": "stdout",
          "text": [
            "Davi tem 18 anos\n",
            "RETORNO:  None\n",
            "Davi tem 18 anos\n",
            "Exibe um texto\n",
            "Exibe\n",
            "Kenji tem 25 anos\n"
          ]
        }
      ]
    },
    {
      "cell_type": "code",
      "source": [
        "# Função com retorno\n",
        "from random import randint\n",
        "\n",
        "def retornaNumeroAleatorio():\n",
        "  return randint(0, 100)\n",
        "\n",
        "def mostraIdadeNome(id, nome):\n",
        "  print(\"{} tem {} anos\" .format(nome, id))\n",
        "  return id\n",
        "\n",
        "segredo = retornaNumeroAleatorio()\n",
        "print(\"RETORNO: \", segredo)\n",
        "\n",
        "idade = mostraIdadeNome(30, \"Gabriel\")\n",
        "print(\"RETORNO: \", idade)"
      ],
      "metadata": {
        "colab": {
          "base_uri": "https://localhost:8080/"
        },
        "id": "XKqffdfWjVnU",
        "outputId": "178a4bb7-a88d-4d54-9685-edce1d436bf3"
      },
      "execution_count": null,
      "outputs": [
        {
          "output_type": "stream",
          "name": "stdout",
          "text": [
            "RETORNO:  18\n",
            "Gabriel tem 30 anos\n",
            "RETORNO:  30\n"
          ]
        }
      ]
    },
    {
      "cell_type": "code",
      "source": [
        "# Função com retorno e com parametro \n",
        "from random import randint\n",
        "\n",
        "def retornaNumeroAleatorioEntre(ini, fim):\n",
        "  return randint(ini, fim)\n",
        "\n",
        "segredo = retornaNumeroAleatorioEntre(2000, 5000)\n",
        "print(\"Teste 1: \",segredo)\n",
        "segredo = retornaNumeroAleatorioEntre(2, 5)\n",
        "print(\"Teste 2: \",segredo)\n",
        "segredo = retornaNumeroAleatorioEntre(12000, 25000)\n",
        "print(\"Teste 3: \",segredo)"
      ],
      "metadata": {
        "colab": {
          "base_uri": "https://localhost:8080/"
        },
        "id": "-WGekUF-k7tv",
        "outputId": "a18437a7-462a-469f-a496-1d00f3470b7e"
      },
      "execution_count": null,
      "outputs": [
        {
          "output_type": "stream",
          "name": "stdout",
          "text": [
            "Teste 1:  3499\n",
            "Teste 2:  5\n",
            "Teste 3:  15768\n"
          ]
        }
      ]
    },
    {
      "cell_type": "code",
      "source": [
        "''' \n",
        "Ex 1. Desenvolva um menu de Escolha de uma Calculadora usando Funções\n",
        "exe.:\n",
        "  Menu Calculadora\n",
        "  1. +\n",
        "  2. -\n",
        "  3. /\n",
        "  4. x\n",
        "  R:\n",
        "'''\n",
        "def menu():\n",
        "  input(\"Menu Calculadora \\n 1. + \\n 2. - \\n 3. / \\n 4. x \\n R:\")\n",
        "\n",
        "menu()\n",
        "\n",
        "\n",
        "\n"
      ],
      "metadata": {
        "colab": {
          "base_uri": "https://localhost:8080/"
        },
        "id": "fn0V1jYNmwdQ",
        "outputId": "e21f0b78-f4e8-4f0e-9a91-fe7c3ab88211"
      },
      "execution_count": null,
      "outputs": [
        {
          "name": "stdout",
          "output_type": "stream",
          "text": [
            "Menu Calculadora \n",
            " 1. + \n",
            " 2. - \n",
            " 3. / \n",
            " 4. x \n",
            " R:1\n"
          ]
        }
      ]
    },
    {
      "cell_type": "code",
      "source": [
        "''' \n",
        "Ex 2. Desenvolva um MENU de Escolha de uma Calculadora usando Funções e exiba a escolha do usuário\n",
        "\n",
        "Exe.:\n",
        "  -------------------\n",
        "  Menu Calculadora\n",
        "  -------------------\n",
        "  1. +\n",
        "  2. -\n",
        "  3. /\n",
        "  4. x\n",
        "  5. Sair\n",
        "  R:\n",
        "\n",
        "'''\n",
        "def linhas():\n",
        "  print(\"--\" * 10)\n",
        "\n",
        "def menu():\n",
        "  linhas()\n",
        "  print('Menu Calculadora')\n",
        "  linhas()\n",
        "  escolha = input(\" 1. + \\n 2. - \\n 3. / \\n 4. x \\n 5. Sair \\n R: \")\n",
        "  linhas()\n",
        "  print(\"VOCÊ ESCOLHEU:\" ,escolha)\n",
        "  linhas()\n",
        "\n",
        "\n",
        "menu()"
      ],
      "metadata": {
        "colab": {
          "base_uri": "https://localhost:8080/"
        },
        "id": "lF9mtjTRoMId",
        "outputId": "9cc3dddb-3465-4d51-a2ed-02fcce3a3b7b"
      },
      "execution_count": null,
      "outputs": [
        {
          "output_type": "stream",
          "name": "stdout",
          "text": [
            "--------------------\n",
            "Menu Calculadora\n",
            "--------------------\n",
            " 1. + \n",
            " 2. - \n",
            " 3. / \n",
            " 4. x \n",
            " 5. Sair \n",
            " R: 4\n",
            "--------------------\n",
            "VOCÊ ESCOLHEU: 4\n",
            "--------------------\n"
          ]
        }
      ]
    },
    {
      "cell_type": "code",
      "source": [
        "# Faca uma calculadora com (+ - * /) e repita enquanto o usuario quiser\n",
        "\n",
        "conta = 1\n",
        "\n",
        "def linhas():\n",
        "  print(\"--\" * 10)\n",
        "\n",
        "def menu():\n",
        "  linhas()\n",
        "  print('Menu Calculadora')\n",
        "  linhas()\n",
        "  escolha = int(input(\" 1. + \\n 2. - \\n 3. / \\n 4. x \\n 5. Sair \\n R: \"))\n",
        "  return escolha\n",
        "\n",
        "def inputUsuario():\n",
        "  continuar = False\n",
        "  while(not continuar):\n",
        "    val = input(\"Digite um valor: \")\n",
        "    if(val.isnumeric()):\n",
        "      continuar = True\n",
        "  return float(val)\n",
        "  \n",
        "\n",
        "def soma():\n",
        "  num1 = inputUsuario()\n",
        "  num2 = inputUsuario()\n",
        "  print(\"SOMA: \", num1 + num2)\n",
        "\n",
        "def sub():\n",
        "  num1 = inputUsuario()\n",
        "  num2 = inputUsuario()\n",
        "  print(\"SUB: \", num1 - num2)\n",
        "\n",
        "def div():\n",
        "  num1 = inputUsuario()\n",
        "  num2 = inputUsuario()\n",
        "  print(\"DIV: \", num1 / num2)\n",
        "\n",
        "def mult():\n",
        "  num1 = inputUsuario()\n",
        "  num2 = inputUsuario() \n",
        "  print(\"Mult: \", num1 * num2)\n",
        "\n",
        "while(conta < 5):\n",
        "  conta = menu()\n",
        "  if(conta == 1):\n",
        "    soma()\n",
        "  elif(conta == 2):\n",
        "    sub()\n",
        "  elif(conta == 3):\n",
        "    div()\n",
        "  elif(conta == 4):\n",
        "    mult()\n",
        "  else:\n",
        "    linhas()\n",
        "    print(\"TCHAU TCHAU\")\n",
        "    linhas()"
      ],
      "metadata": {
        "colab": {
          "base_uri": "https://localhost:8080/"
        },
        "id": "ji_zrgVXqFz8",
        "outputId": "a94d11cb-de26-4323-95ee-984e58c179f1"
      },
      "execution_count": null,
      "outputs": [
        {
          "output_type": "stream",
          "name": "stdout",
          "text": [
            "--------------------\n",
            "Menu Calculadora\n",
            "--------------------\n",
            " 1. + \n",
            " 2. - \n",
            " 3. / \n",
            " 4. x \n",
            " 5. Sair \n",
            " R: 5\n",
            "--------------------\n",
            "TCHAU TCHAU\n",
            "--------------------\n"
          ]
        }
      ]
    }
  ]
}