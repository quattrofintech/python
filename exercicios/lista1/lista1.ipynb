{
 "cells": [
  {
   "cell_type": "code",
   "execution_count": 7,
   "metadata": {},
   "outputs": [
    {
     "name": "stdout",
     "output_type": "stream",
     "text": [
      "15 78\n",
      "Maior valor:  78\n",
      "Maior valor:  78\n"
     ]
    }
   ],
   "source": [
    "# 1. Escreva um programa para ler 2 valores (considere que não serão informados valores\tiguais) e escrever o maior deles. \n",
    "\n",
    "num1 = int(input('Digite um número: '))\n",
    "num2 = int(input('Digite outro número: '))\n",
    "maiorValor = 0\n",
    "print(num1, num2)\n",
    "\n",
    "if num1 > num2: # teste -> TRUE or FALSE\n",
    "    maiorValor = num1\n",
    "    print(\"Maior valor: \", num1)\n",
    "else:\n",
    "    maiorValor = num2\n",
    "    print('Maior valor: ', num2)\n",
    "\n",
    "print('Maior valor: ', maiorValor)\n"
   ]
  },
  {
   "cell_type": "code",
   "execution_count": 21,
   "metadata": {},
   "outputs": [
    {
     "name": "stdout",
     "output_type": "stream",
     "text": [
      "28 anos, voto obrigatório!\n"
     ]
    }
   ],
   "source": [
    "''' \n",
    "2. Escreva um programa para\tler o ano de nascimento de uma pessoa e escrever uma mensagem que diga se ela poderá ou não votar este ano.\t\n",
    "(não é necessário considerar o mês em que ela nasceu)\n",
    "'''\n",
    "\n",
    "''' \n",
    " obrigatório > 18 e idade <= 70\n",
    " facultativo >  idade 16 / 17  e idade > 70\n",
    " não vota < não vota\n",
    "'''\n",
    "# idade = 80\n",
    "anoAtual = 2022\n",
    "ano_nascimento = int(input('Digite seu ano de nascimento: (YYYY) '))\n",
    "idade = anoAtual - ano_nascimento\n",
    "\n",
    "if (idade >= 18 and idade <= 70):\n",
    "    print(f'{idade} anos, voto obrigatório!')\n",
    "elif (idade >= 16): # idade > 15 -> Voto\n",
    "    print(f'{idade} anos, voto facultativo!')\n",
    "else:\n",
    "    print(f'{idade} naos, não pode votar!')"
   ]
  },
  {
   "cell_type": "code",
   "execution_count": 29,
   "metadata": {},
   "outputs": [
    {
     "name": "stdout",
     "output_type": "stream",
     "text": [
      "ACESSO PERMITIDO\n"
     ]
    }
   ],
   "source": [
    "''' \n",
    "3. Escreva um programa que verifique a validade de uma senha fornecida pelo usuário.A senha válida é o\tnúmero 1234.Devem ser impressas as seguintes mensagens:\t\n",
    "    ACESSO PERMITIDO caso a\tsenha seja válida.\t\n",
    "    ACESSO NEGADO caso a senha seja inválida.\n",
    "\n",
    "'''\n",
    "senha_correta = '1234'\n",
    "senha = input('Digite a seua senha: ')\n",
    "\n",
    "if senha == senha_correta:\n",
    "    print('ACESSO PERMITIDO')\n",
    "else:\n",
    "    print('ACESSO NEGADO')\n"
   ]
  },
  {
   "cell_type": "code",
   "execution_count": 32,
   "metadata": {},
   "outputs": [
    {
     "name": "stdout",
     "output_type": "stream",
     "text": [
      "Total da Compra R$  3.0\n"
     ]
    }
   ],
   "source": [
    "''' \n",
    "4.As maçãs custam R$ 0,30 cada se forem\tcompradas menos do que uma dúzia, e R$ 0,25 se forem compradas pelo menos doze. Escreva\tum\n",
    "programa que leia o\tnúmero\tde maçãs compradas, calcule\te escreva o valor total da compra.\n",
    "'''\n",
    "# >= 12\n",
    "preco1 = 0.30\n",
    "preco2 = 0.25\n",
    "\n",
    "qnt_comprada = int(input('Digite a quantidade de maçãs compradas: '))\n",
    "\n",
    "if qnt_comprada >= 12:\n",
    "    print('Total da Compra R$ ', preco2 * qnt_comprada)\n",
    "elif qnt_comprada < 12: # else\n",
    "    print('Total da Compra R$ ', preco1 * qnt_comprada)"
   ]
  },
  {
   "cell_type": "code",
   "execution_count": 37,
   "metadata": {},
   "outputs": [
    {
     "name": "stdout",
     "output_type": "stream",
     "text": [
      "1 - 1 \n",
      "2 - 15 \n",
      "3 - 89\n"
     ]
    }
   ],
   "source": [
    " #5. Escreva  um programa para ler 3 valores inteiros (considere que não serão lidos valores iguais) e escrevê-los em ordem crescente.\n",
    "\n",
    " num1 = int(input('Digite um número: '))\n",
    " num2 = int(input('Digite outro número: '))\n",
    " num3 = int(input('Digite outro número: '))\n",
    "\n",
    " if num1 > num2 and num1 > num3:\n",
    "    if num2 > num3:\n",
    "        print(f'1 - {num3} \\n2 - {num2} \\n3 - {num1}')\n",
    "    else:\n",
    "        print(f'1 - {num2} \\n2 - {num3} \\n3 - {num1}')\n",
    "elif num2 > num1 and num2 > num3:\n",
    "    if num1 > num3:\n",
    "        print(f'1 - {num3} \\n2 - {num1} \\n3 - {num2}')\n",
    "    else:\n",
    "        print(f'1 - {num1} \\n2 - {num3} \\n3 - {num2}')\n",
    "else:\n",
    "    if num1 > num2:\n",
    "        print(f'1 - {num2} \\n2 - {num1} \\n3 - {num3}')\n",
    "    else:\n",
    "        print(f'1 - {num1} \\n2 - {num2} \\n3 - {num3}')\n",
    "\n"
   ]
  },
  {
   "cell_type": "code",
   "execution_count": 45,
   "metadata": {},
   "outputs": [
    {
     "name": "stdout",
     "output_type": "stream",
     "text": [
      "feminino\n",
      "O peso ideal é de 67.08 kg\n"
     ]
    }
   ],
   "source": [
    "''' \n",
    "6.Tendo como entrada a altura e o sexo (codificado da seguinte forma: 1:feminino 2:masculino) de uma pessoa, construa um programa que\t\n",
    "calcule e imprima seu peso ideal, utilizando as seguintes fórmulas:\t\n",
    "    - para homens: (72.7 x Altura) – 58\t\n",
    "    - para mulheres: (62.1 x Altura) – 44.7\t\n",
    "'''\n",
    "\n",
    "sexo = int(input('Digite o sexo: (1 - feminino, 2 - masculino)'))\n",
    "altura = int(input('Digite a altura (em cm): '))\n",
    "\n",
    "if sexo == 1:\n",
    "    print('feminino')\n",
    "    formula_peso = (62.1 * (altura/100)) - 44.7\n",
    "    print(f'O peso ideal é de {round(formula_peso,2)} kg')\n",
    "else:\n",
    "    print('masculino')\n",
    "    formula_peso = (72.7 * (altura/100)) - 58\n",
    "    print(f'O peso ideal é de {round(formula_peso, 2)} kg')"
   ]
  },
  {
   "cell_type": "code",
   "execution_count": 68,
   "metadata": {},
   "outputs": [
    {
     "name": "stdout",
     "output_type": "stream",
     "text": [
      "É um TRIÂNGULO.\n",
      "1.7\n",
      "A área do TRINÂNGULO É 21.22 cm²\n"
     ]
    }
   ],
   "source": [
    "''' \n",
    "7. Escreva um programa para ler o número de lados de um polígono regular e a medida do lado (em\tcm). Calcular e imprimir o seguinte:\t\n",
    "    - Se o número de lados for igual a 3 escrever TRIÂNGULO e o valor da área\n",
    "    - Se o número de lados for igual a 4 escrever QUADRADO e o valor da\tsua\tárea.\t\n",
    "    - Se o número de lados for igual a 5 escrever PENTÁGONO.\n",
    "'''\n",
    "import math \n",
    "# A = (l²V3) / 4 -> V3 = 1.7\n",
    "lados = int(input('Digite o número de lados do POLÍGONO: '))\n",
    "medida = int(input('Digite a medida do lado: (em cm) '))\n",
    "\n",
    "if lados  == 3:\n",
    "    print('É um TRIÂNGULO.')\n",
    "    print(round(math.sqrt(3), 1))\n",
    "    #area = (medida ** 2 * 1.7) / 4\n",
    "    #area = (medida ** 2 * math.sqrt(3)) / 4\n",
    "    #area = (math.pow(medida, 2) * math.sqrt(3)) / 4\n",
    "    #area = (medida **  2 * (3 ** (1/2))) / 4\n",
    "    area = (math.pow(medida, 2) * math.pow(3, 1/2)) / 4\n",
    "    \n",
    "    print(f'A área do TRINÂNGULO É {round(area, 2)} cm²')\n",
    "elif lados == 4:\n",
    "    print('É um QUADRADO.')\n",
    "    area =  medida * medida # l² / l x l \n",
    "    area = math.pow(medida, 2 )\n",
    "    print(f'A área do QUADRADO É {round(area, 2)} cm²')\n",
    "elif lados == 5:\n",
    "    print('É um PENTÁGONO.')\n",
    "else:\n",
    "    print('Não é um polígono conhecido.')\n",
    "    "
   ]
  },
  {
   "cell_type": "code",
   "execution_count": 79,
   "metadata": {},
   "outputs": [
    {
     "name": "stdout",
     "output_type": "stream",
     "text": [
      "POLÍGONO NÃO IDENTIFICADO\n"
     ]
    }
   ],
   "source": [
    "''' \n",
    "8.Acrescente  as seguintes mensagens à\tsolução\tdo exercício anterior conforme\to\tcaso.\t\n",
    "    - Caso o número de lados seja inferior a 3 escrever NÃO É UM POLÍGONO.\t\n",
    "    - Caso o número de lados seja superior a 5 escrever POLÍGONO NÃO IDENTIFICADO.\n",
    "'''\n",
    "lados = int(input('Digite o número de lados: '))\n",
    "if lados < 3:\n",
    "    print('NÃO É UM POLÍGONO')\n",
    "elif lados > 5:\n",
    "    print('POLÍGONO NÃO IDENTIFICADO')\n",
    "else:\n",
    "    if lados == 3:\n",
    "        print('É um TRIÂNGULO')\n",
    "    elif lados == 4:\n",
    "        print('É um QUADRADO')\n",
    "    else:\n",
    "        print('É um PENTÁGONO')"
   ]
  },
  {
   "cell_type": "code",
   "execution_count": 107,
   "metadata": {},
   "outputs": [
    {
     "name": "stdout",
     "output_type": "stream",
     "text": [
      "870 543 384\n",
      "O maior número é 870\n"
     ]
    }
   ],
   "source": [
    "# 9. Escreva um programa para ler 3 valores inteiros e escrever o maior deles.Considere que o usuário não informará valores iguais.\n",
    "from random import randint\n",
    "num1 = randint(1, 1000) #int(input('Digite um número: '))\n",
    "num2 = randint(1, 1000) #int(input('Digite um número: '))\n",
    "num3 = randint(1, 1000) #int(input('Digite um número: '))\n",
    "\n",
    "print(f'{num1} {num2} {num3}')\n",
    "\n",
    "if num2 < num1 > num3:\n",
    "    print(f'O maior número é {num1}')\n",
    "elif num1 < num2 > num3:\n",
    "    print(f'O maior número é {num2}')\n",
    "else:\n",
    "    print(f'O maior número é {num3}')\n",
    "\n"
   ]
  },
  {
   "cell_type": "code",
   "execution_count": 134,
   "metadata": {},
   "outputs": [
    {
     "name": "stdout",
     "output_type": "stream",
     "text": [
      "11 15 13\n",
      "Triângulo Escaleno: possui 3 lados diferentes.\n"
     ]
    }
   ],
   "source": [
    "''' \n",
    "10.Escreva um programa que leia\tas medidas dos lados de um triângulo e escreva se ele é Equilátero,\tIsósceles ou Escaleno. Sendo\tque:\t\n",
    "    - Triângulo Equilátero: possui os 3 lados iguais.\t\n",
    "    - Triângulo Isóscele: possui 2 lados iguais.\t\n",
    "    - Triângulo Escaleno: possui 3 lados diferentes.\n",
    "'''\n",
    "# /_\\\n",
    "\n",
    "\n",
    "lado1 = randint(5, 15) #int(input('Digite o lado 1 do triângulo: '))\n",
    "lado2 = randint(5, 15) #int(input('Digite o lado 2 do triângulo: '))\n",
    "lado3 = randint(5, 15) #int(input('Digite o lado 3 do triângulo: '))\n",
    "\n",
    "print(f'{lado1} {lado2} {lado3}')\n",
    "\n",
    "if lado1 == lado2 == lado3:\n",
    "    print('Triângulo Equilátero: possui os 3 lados iguais.')\n",
    "elif lado1 == lado2 or lado1 == lado3 or lado2 == lado3:\n",
    "    print('Triângulo Isóscele: possui 2 lados iguais.')\n",
    "else:\n",
    "    print('Triângulo Escaleno: possui 3 lados diferentes.')"
   ]
  },
  {
   "cell_type": "code",
   "execution_count": 220,
   "metadata": {},
   "outputs": [
    {
     "name": "stdout",
     "output_type": "stream",
     "text": [
      "90 120 44\n",
      "Triângulo Retângulo: possui um ângulo reto. (igual a 90º)\n"
     ]
    }
   ],
   "source": [
    "''' \n",
    "11. Escreva um programa que leia o valor de 3 ângulos de um triângulo e\tescreva se o triângulo é Acutângulo, Retângulo ou Obtusângulo.Sendo\tque:\t\n",
    "    - Triângulo\tRetângulo: possui um ângulo reto. (igual a 90º)\n",
    "    - Triângulo\tObtusângulo: possui um ângulo obtuso.  (maior que 90º)\t\n",
    "    - Triângulo\tAcutângulo: possui três ângulos agudos. (menor que 90º)\n",
    "'''\n",
    "\n",
    "\n",
    "ang1 = randint(30, 120) #int(input('Digite o valor do ângulo 1 do triângulo: '))\n",
    "ang2 = randint(30, 120) #int(input('Digite o valor do ângulo 2 do triângulo: '))\n",
    "ang3 = randint(30, 120) #int(input('Digite o valor do ângulo 3 do triângulo: '))\n",
    "print(f'{ang1} {ang2} {ang3}')\n",
    "\n",
    "if ang1 == 90 or ang2 == 90 or ang3 == 90:\n",
    "    print('Triângulo Retângulo: possui um ângulo reto. (igual a 90º)')\n",
    "elif ang1 > 90 or ang2 > 90 or ang3 > 90:\n",
    "    print('Triângulo Obtusângulo: possui um ângulo obtuso.  (maior que 90º)\t')\n",
    "elif ang1 < 90 and ang2 < 90 and ang3 < 90:\n",
    "    print('Triângulo Acutângulo: possui três ângulos agudos. (menor que 90º)')\n"
   ]
  },
  {
   "cell_type": "code",
   "execution_count": 228,
   "metadata": {},
   "outputs": [
    {
     "name": "stdout",
     "output_type": "stream",
     "text": [
      "álcool\n",
      "Total R$ 102.2\n"
     ]
    }
   ],
   "source": [
    "''' \n",
    "12. Um posto está vendendo combustíveis com a seguinte tabela de descontos:  \n",
    "\n",
    "Álcool: R$ 4.89\n",
    "- Até 20 litros: desconto de 3% por litro\n",
    "- Acima de 20 litros: Desconto de 5% por litro.\n",
    "\n",
    "Gasolina: R$ 6.58\n",
    "- Até 20 litros: desconto de 4% por litro\n",
    "- Acima de 20 litros, desconto de 6% por litro\n",
    "\n",
    "Escreva um algoritmo que leia o número de litros vendidos, o tipo de combustível (codificado da seguinte forma: A-álcool. G-gasolina), calcule e imprima o valor a ser pago pelo client\n",
    "\n",
    "''' \n",
    "alcool = 4.89\n",
    "gasolina = 6.58\n",
    "preco = 0\n",
    "total = 0\n",
    "\n",
    "tipo_combustivel = input('Digite o tipo de combustível (A - álcool, G - gasolina) : ')[0].lower()\n",
    "litros = int(input('Digite a quantidade:  (em litros)'))\n",
    "\n",
    "if tipo_combustivel == 'a':\n",
    "    print('álcool')\n",
    "    if litros <= 20:\n",
    "        preco = alcool * 0.97\n",
    "    else:\n",
    "        preco = alcool * 0.95\n",
    "\n",
    "elif tipo_combustivel == 'g':\n",
    "    print('Gasolina')\n",
    "    if litros <= 20:\n",
    "        preco = gasolina * 0.96\n",
    "    else:\n",
    "        preco = alcool * 0.94\n",
    "else:\n",
    "    print('Combustível não identificado.')\n",
    "\n",
    "total = preco * litros\n",
    "print(f'Total R$ {round(total, 2)}')"
   ]
  }
 ],
 "metadata": {
  "kernelspec": {
   "display_name": "Python 3.9.2 64-bit",
   "language": "python",
   "name": "python3"
  },
  "language_info": {
   "codemirror_mode": {
    "name": "ipython",
    "version": 3
   },
   "file_extension": ".py",
   "mimetype": "text/x-python",
   "name": "python",
   "nbconvert_exporter": "python",
   "pygments_lexer": "ipython3",
   "version": "3.9.2"
  },
  "orig_nbformat": 4,
  "vscode": {
   "interpreter": {
    "hash": "916dbcbb3f70747c44a77c7bcd40155683ae19c65e1c03b4aa3499c5328201f1"
   }
  }
 },
 "nbformat": 4,
 "nbformat_minor": 2
}
