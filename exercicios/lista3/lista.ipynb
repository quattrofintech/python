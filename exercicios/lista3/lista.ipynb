{
 "cells": [
  {
   "cell_type": "code",
   "execution_count": 2,
   "metadata": {},
   "outputs": [
    {
     "name": "stdout",
     "output_type": "stream",
     "text": [
      "Hello\n"
     ]
    }
   ],
   "source": [
    "print('Hello')"
   ]
  },
  {
   "cell_type": "code",
   "execution_count": 8,
   "metadata": {},
   "outputs": [
    {
     "name": "stdout",
     "output_type": "stream",
     "text": [
      "4950\n",
      "4950\n"
     ]
    }
   ],
   "source": [
    "# Calcular a soma dos 100 primeiros nº naturais. \n",
    "soma = 0\n",
    "for i in range(100):\n",
    "    soma += i \n",
    "print(soma)\n",
    "\n",
    "\n",
    "somaNum = 0\n",
    "cont = 0\n",
    "while cont < 100:\n",
    "    somaNum += cont\n",
    "    cont += 1\n",
    "print(somaNum)"
   ]
  },
  {
   "cell_type": "code",
   "execution_count": 12,
   "metadata": {},
   "outputs": [
    {
     "name": "stdout",
     "output_type": "stream",
     "text": [
      "0\n",
      "7\n",
      "14\n",
      "21\n",
      "28\n",
      "35\n",
      "42\n",
      "49\n",
      "56\n",
      "63\n",
      "70\n",
      "77\n",
      "84\n",
      "91\n",
      "98\n",
      "105\n",
      "112\n",
      "119\n",
      "126\n",
      "133\n",
      "140\n",
      "147\n",
      "154\n",
      "161\n",
      "168\n",
      "175\n",
      "182\n",
      "189\n",
      "196\n",
      "0\n",
      "7\n",
      "14\n",
      "21\n",
      "28\n",
      "35\n",
      "42\n",
      "49\n",
      "56\n",
      "63\n",
      "70\n",
      "77\n",
      "84\n",
      "91\n",
      "98\n",
      "105\n",
      "112\n",
      "119\n",
      "126\n",
      "133\n",
      "140\n",
      "147\n",
      "154\n",
      "161\n",
      "168\n",
      "175\n",
      "182\n",
      "189\n",
      "196\n"
     ]
    }
   ],
   "source": [
    "#    Imprimir os múltiplos de 7 menores que 200. \n",
    "for i in range(200):\n",
    "    if(i % 7 == 0):\n",
    "       print(i)\n",
    "\n",
    "cont = 0\n",
    "while True:\n",
    "    if(cont * 7 < 200):\n",
    "        print(cont * 7)\n",
    "        cont += 1\n",
    "    else:\n",
    "        break\n",
    "    "
   ]
  },
  {
   "cell_type": "code",
   "execution_count": 15,
   "metadata": {},
   "outputs": [
    {
     "name": "stdout",
     "output_type": "stream",
     "text": [
      " 4 x 0 = 0\n",
      " 4 x 1 = 4\n",
      " 4 x 2 = 8\n"
     ]
    }
   ],
   "source": [
    "# Imprimir a tabuada do número 4.\n",
    "\n",
    "tabuada = 4\n",
    "for i in range(3):\n",
    "    print(f' {tabuada} x {i} = {tabuada * i}')"
   ]
  },
  {
   "cell_type": "code",
   "execution_count": 16,
   "metadata": {},
   "outputs": [
    {
     "name": "stdout",
     "output_type": "stream",
     "text": [
      " 11 x 0 = 0\n",
      " 11 x 1 = 11\n",
      " 11 x 2 = 22\n",
      " 11 x 3 = 33\n",
      " 11 x 4 = 44\n",
      " 11 x 5 = 55\n",
      " 11 x 6 = 66\n",
      " 11 x 7 = 77\n",
      " 11 x 8 = 88\n",
      " 11 x 9 = 99\n",
      " 11 x 10 = 110\n"
     ]
    }
   ],
   "source": [
    "# Imprimir a tabuada de qualquer número n. \n",
    "tabuada = int(input('Digite um número: '))\n",
    "for i in range(11):\n",
    "    print(f' {tabuada} x {i} = {tabuada * i}')"
   ]
  },
  {
   "cell_type": "code",
   "execution_count": 19,
   "metadata": {},
   "outputs": [
    {
     "name": "stdout",
     "output_type": "stream",
     "text": [
      "43.0\n"
     ]
    }
   ],
   "source": [
    "# Calcular e mostrar a média aritmética dos números pares compreendidos entre 13 e 73. \n",
    "soma = 0\n",
    "contador = 0\n",
    "for i in range(13, 73):\n",
    "    if(i % 2 == 0):\n",
    "        soma = soma + i\n",
    "        contador = contador + 1\n",
    "\n",
    "media = soma / contador\n",
    "print(media)"
   ]
  },
  {
   "cell_type": "code",
   "execution_count": 21,
   "metadata": {},
   "outputs": [
    {
     "name": "stdout",
     "output_type": "stream",
     "text": [
      "0 1 1 2 3 5 8 13 21 34 55 89 144 233 377 610 987 1597 2584 4181 6765 10946 "
     ]
    }
   ],
   "source": [
    "''' \n",
    "    A série de Fibonacci é uma seqüência de termos que tem como os 2 primeiros termos,\n",
    "    respectivamente, os números 0 e 1. A partir daí, os demais termos são formados seguindo uma\n",
    "    certa regra. A série de Fibonacci pode ser vista a seguir:\n",
    "                                0 1 1 2 3 5 8 13 21...\n",
    "    Descubra a regra que gera a seqüência da série de Fibonacci e escreva um algoritmo que gere\n",
    "    os n (solicitados pelo usuário) primeiros termos desta série e calcula e escreve a soma destes\n",
    "    termos. \n",
    "'''\n",
    "\n",
    "antNum = 0\n",
    "atual = 1\n",
    "proxNum = 0 \n",
    "print(antNum, end=' ')\n",
    "print(atual, end=' ')\n",
    "for i in range(20):\n",
    "    proxNum = atual + antNum\n",
    "    print(proxNum, end=' ')\n",
    "    antNum = atual\n",
    "    atual = proxNum"
   ]
  },
  {
   "cell_type": "code",
   "execution_count": 28,
   "metadata": {},
   "outputs": [
    {
     "name": "stdout",
     "output_type": "stream",
     "text": [
      "Juros: R$ 336.0\n",
      "28.0 %\n",
      "Montante: R$ 1536.0\n"
     ]
    }
   ],
   "source": [
    "# Uma pessoa aplicou o capital de R$ 1.200,00 a uma taxa de 2% ao mês durante 14 meses. Determine os juros e o montante dessa aplicação.\n",
    "''' \n",
    "    J = C × i × t\n",
    "\n",
    "    Onde:\n",
    "\n",
    "    J = juros simples;\n",
    "    C = capital inicial;\n",
    "    i = taxa de juros;\n",
    "    t = tempo da aplicação.\n",
    "'''\n",
    "\n",
    "j = 1200 * 0.02 * 14\n",
    "montante = 1200 + j\n",
    "juros = 33600 / 1200\n",
    "print(f'Juros: R$ {j}')\n",
    "print(f'{juros} %')\n",
    "print(f'Montante: R$ {montante}')"
   ]
  }
 ],
 "metadata": {
  "kernelspec": {
   "display_name": "Python 3.10.7 64-bit",
   "language": "python",
   "name": "python3"
  },
  "language_info": {
   "codemirror_mode": {
    "name": "ipython",
    "version": 3
   },
   "file_extension": ".py",
   "mimetype": "text/x-python",
   "name": "python",
   "nbconvert_exporter": "python",
   "pygments_lexer": "ipython3",
   "version": "3.10.7"
  },
  "orig_nbformat": 4,
  "vscode": {
   "interpreter": {
    "hash": "b1be5a1e9e85905d3e4e97ef1b769f5caa870a8a58c9f9e0ae488b6f0a0e1baf"
   }
  }
 },
 "nbformat": 4,
 "nbformat_minor": 2
}
