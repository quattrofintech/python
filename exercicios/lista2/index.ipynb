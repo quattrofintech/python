{
 "cells": [
  {
   "cell_type": "code",
   "execution_count": 2,
   "metadata": {},
   "outputs": [
    {
     "name": "stdout",
     "output_type": "stream",
     "text": [
      "A soma é menor que C\n"
     ]
    }
   ],
   "source": [
    "'''  \n",
    "1. Faça um algoritmo que leia os valores A, B, C e imprima na tela se a soma de A + B é menor\n",
    "que C. \n",
    "'''\n",
    "\n",
    "a = int(input('Digite o valor de A'))\n",
    "b = int(input('Digite o valor de B'))\n",
    "c = int(input('Digite o valor de C'))\n",
    "\n",
    "#soma = a + b\n",
    "\n",
    "if((a + b) < c):\n",
    "    print(f'A soma é menor que C') \n",
    "\n"
   ]
  },
  {
   "cell_type": "code",
   "execution_count": 4,
   "metadata": {},
   "outputs": [
    {
     "name": "stdout",
     "output_type": "stream",
     "text": [
      "-15\n"
     ]
    }
   ],
   "source": [
    "''' \n",
    "2. Encontrar o dobro de um número caso ele seja positivo e o seu triplo caso seja negativo,\n",
    "imprimindo o resultado\n",
    "'''\n",
    "x = int(input('Digite o valor de X'))\n",
    "if x >= 0:\n",
    "    print(f'{x * 2}')\n",
    "else:\n",
    "    print(f'{x * 3}')\n"
   ]
  },
  {
   "cell_type": "code",
   "execution_count": 27,
   "metadata": {},
   "outputs": [
    {
     "name": "stdout",
     "output_type": "stream",
     "text": [
      "Ambos são FALSOS\n"
     ]
    }
   ],
   "source": [
    "''' \n",
    "3. Escreva um algoritmo que lê dois valores booleanos (lógicos) e então determina se ambos são\n",
    "VERDADEIROS ou FALSOS. ( True / False )\n",
    "'''\n",
    "x = input('Digite um valor booleano: ') # 0 - False, 1 - Verdadeiro\n",
    "y = input('Digite um valor booleano: ')\n",
    "\n",
    "if x == 'True' and y == 'True':\n",
    "    print('Ambos são VERDADEIROS')\n",
    "elif x == \"False\" and y == \"False\":\n",
    "    print('Ambos são FALSOS')\n",
    "else:\n",
    "    print('São DIFERENTES')\n",
    "\n",
    "\n"
   ]
  },
  {
   "cell_type": "code",
   "execution_count": 29,
   "metadata": {},
   "outputs": [
    {
     "name": "stdout",
     "output_type": "stream",
     "text": [
      " 95 - 50 - 18 \n"
     ]
    }
   ],
   "source": [
    "''' \n",
    "4. Escreva um algoritmo que leia três valores inteiros e diferentes e mostre-os em ordem\n",
    "decrescente. \n",
    "'''\n",
    "\n",
    "a = int(input('Digite um número INTEIRO '))\n",
    "b = int(input('Digite um número INTEIRO '))\n",
    "c = int(input('Digite um número INTEIRO '))\n",
    "\n",
    "if a > b and a > c: # A é o maior \n",
    "    if b > c:\n",
    "        print(f' {a} - {b} - {c} ')\n",
    "    else:\n",
    "        print(f' {a} - {c} - {b} ')\n",
    "elif b > a and b > c: # B é o maior \n",
    "    if a > c:\n",
    "        print(f' {b} - {a} - {c} ')\n",
    "    else:\n",
    "        print(f' {b} - {c} - {a} ')\n",
    "else: # C é o maior\n",
    "    if a > b:\n",
    "        print(f' {c} - {a} - {b} ')\n",
    "    else:\n",
    "        print(f' {c} - {b} - {a} ')\n"
   ]
  },
  {
   "cell_type": "code",
   "execution_count": 35,
   "metadata": {},
   "outputs": [
    {
     "name": "stdout",
     "output_type": "stream",
     "text": [
      "[100, 84, 59]\n",
      "[100, 84, 59]\n"
     ]
    }
   ],
   "source": [
    "num = []\n",
    "for i in range(3):\n",
    "    num.append(int(input('Digite um número: ')))\n",
    "num.sort(reverse=True)\n",
    "print(num)\n",
    "\n",
    "print(sorted(num, reverse=True))"
   ]
  },
  {
   "cell_type": "code",
   "execution_count": 60,
   "metadata": {},
   "outputs": [
    {
     "name": "stdout",
     "output_type": "stream",
     "text": [
      "Categoria: JUVENIL B\n"
     ]
    },
    {
     "data": {
      "text/plain": [
       "\" if idade > 18:\\n    print('Categoria: SÊNIOR')\\nelif idade >= 14:\\n    print('Categoria: JUVENIL B')\\nelif idade >= 11:\\n    print('Categoria: JUVENIL A')\\nelif idade >= 8:\\n    print('Categoria: INFANTIL B')\\nelif idade >= 5 :\\n    print('Categoria: INFANTIL A')\""
      ]
     },
     "execution_count": 60,
     "metadata": {},
     "output_type": "execute_result"
    }
   ],
   "source": [
    "''' \n",
    "6. A confederação brasileira de natação irá promover eliminatórias para o próximo\n",
    "mundial. Fazer um algoritmo que receba a idade de um nadador e\n",
    "determine (imprima) a sua categoria segundo a tabela a seguir:  \n",
    "                Categoria \tIdade  \n",
    "                Infantil A \t5 – 7 anos  \n",
    "                Infantil B \t8 – 10 anos  \n",
    "                Juvenil A \t11 – 13 anos  \n",
    "                Juvenil B \t14 – 17 anos\n",
    "                Sênior Maiores de 18 anos \n",
    "'''\n",
    "idade = int(input('Digite a idade do NADADOR '))\n",
    "if 7 >= idade >= 5:\n",
    "    print('Categoria: INFANTIL A')\n",
    "elif 10 >= idade >= 8:\n",
    "    print('Categoria: INFANTIL B')\n",
    "elif 13 >= idade >= 11:\n",
    "    print('Categoria: JUVENIL A')\n",
    "elif 17 >= idade >= 14:\n",
    "    print('Categoria: JUVENIL B')\n",
    "elif idade >= 18:\n",
    "    print('Categoria: SÊNIOR')\n",
    "\n",
    "\n",
    "''' if idade > 18:\n",
    "    print('Categoria: SÊNIOR')\n",
    "elif idade >= 14:\n",
    "    print('Categoria: JUVENIL B')\n",
    "elif idade >= 11:\n",
    "    print('Categoria: JUVENIL A')\n",
    "elif idade >= 8:\n",
    "    print('Categoria: INFANTIL B')\n",
    "elif idade >= 5 :\n",
    "    print('Categoria: INFANTIL A')''' "
   ]
  },
  {
   "cell_type": "code",
   "execution_count": null,
   "metadata": {},
   "outputs": [],
   "source": []
  },
  {
   "cell_type": "code",
   "execution_count": 79,
   "metadata": {},
   "outputs": [
    {
     "name": "stdout",
     "output_type": "stream",
     "text": [
      "f(x) = 2.0\n"
     ]
    }
   ],
   "source": [
    "''' \n",
    "7. Criar um algoritmo que receba o valor de x, e calcule e imprima o\n",
    "valor de f(x).\n",
    "\tf(x)= 8 / (2 - x)\n",
    "'''\n",
    "\n",
    "try:\n",
    "\tx = int(input('Digite um valor: '))\n",
    "\tfx = 8 / (2 - x)\n",
    "except ValueError:\n",
    "\tprint('O valor de X deve ser um numero natural')\n",
    "except ZeroDivisionError:\n",
    "\tprint('Resultado do Divisor não pode ser igual a 0')\n",
    "except Exception as error:\n",
    "\tprint(error.__class__)\n",
    "except:\n",
    "\tprint('Formula deu error')\n",
    "else:\n",
    "\tprint(f'f(x) = {round(fx, 2)}')"
   ]
  },
  {
   "cell_type": "code",
   "execution_count": 109,
   "metadata": {},
   "outputs": [
    {
     "name": "stdout",
     "output_type": "stream",
     "text": [
      "Não existe dia da semana com esse número\n"
     ]
    }
   ],
   "source": [
    "''' \n",
    "8. Criar um algoritmo em Python que leia o um número inteiro entre 1 e 7 e\n",
    "escreva o dia da semana correspondente. Caso o usuário digite um número fora desse\n",
    "intervalo, deverá aparecer uma mensagem informando que não existe dia da semana\n",
    "com esse número. \n",
    "''' \n",
    "\n",
    "dia = int(input('Digite um valor inteiro 1 - 7: '))\n",
    "semana = ['Domingo', 'Segunda', 'Terça', 'Quarta', 'Quinta', 'Sexta', 'Sábado']\n",
    "if dia > 7 or dia < 1:\n",
    "    print('Não existe dia da semana com esse número')\n",
    "else:\n",
    "    print(semana[dia-1])\n",
    "\n",
    "''' if 7 >= dia >= 1:\n",
    "    if dia == 1:\n",
    "        print('Domingo')\n",
    "    elif dia == 2:\n",
    "        print('Segunda')\n",
    "    elif dia == 3:\n",
    "        print('Terça')\n",
    "    elif dia == 4:\n",
    "        print('Quarta')\n",
    "    elif dia == 5:\n",
    "        print('Quinta')\n",
    "    elif dia == 6:\n",
    "        print('Sexta')\n",
    "    else:\n",
    "        print('Sábado')\n",
    "else:\n",
    "    print('Não existe dia da semana com esse número')  '''\n",
    "\n",
    "\n",
    "\n"
   ]
  },
  {
   "cell_type": "code",
   "execution_count": 128,
   "metadata": {},
   "outputs": [
    {
     "name": "stdout",
     "output_type": "stream",
     "text": [
      "Não existe mês do ano com esse número\n"
     ]
    }
   ],
   "source": [
    "''' \n",
    "9. Criar um algoritmo em Pyhton que leia um número inteiro entre 1 e 12 e\n",
    "escrever o mês correspondente. Caso o usuário digite um número fora desse intervalo,\n",
    "deverá aparecer uma mensagem informando que não existe mês com este número. \n",
    "'''\n",
    "ano = ['jan', 'fev', 'mar', 'abr', 'mai', 'jun', 'jul', 'ago', 'set', 'out', 'nov', 'dez']\n",
    "mes = int(input('Digite um número entre 1 - 12'))\n",
    "try:\n",
    "    print(ano[mes - 1])\n",
    "except:\n",
    "    print('Não existe mês do ano com esse número')"
   ]
  },
  {
   "cell_type": "code",
   "execution_count": 14,
   "metadata": {},
   "outputs": [
    {
     "name": "stdout",
     "output_type": "stream",
     "text": [
      "5\n",
      "[22.6, 37.7, 23.5, 17.4, 25.7]\n",
      "17.4\n"
     ]
    }
   ],
   "source": [
    "''' \n",
    "10. Elabore um subprograma Python que tenha como parâmetros de entrada um vetor (cujos elementos são do tipo real) e o número de\n",
    "elementos do vetor, e forneça como saída o menor elemento do vetor. \n",
    "'''\n",
    "import random\n",
    "\n",
    "\n",
    "numeros = []\n",
    "n = int(input('Digite o tamanho da lista: '))\n",
    "print(n)\n",
    "for i in range(n):\n",
    "    numeros.append(round(random.uniform(1.0, 50), 1))\n",
    "print(numeros)\n",
    "print(min(numeros))\n"
   ]
  },
  {
   "cell_type": "code",
   "execution_count": 33,
   "metadata": {},
   "outputs": [
    {
     "name": "stdout",
     "output_type": "stream",
     "text": [
      "[-20, 4, 18, 7, -5, 19, -15, -4, -2, -15]\n",
      "6\n"
     ]
    }
   ],
   "source": [
    "''' \n",
    "11. Crie um método que recebe um array de inteiros e retorna a quantidade de elementos\n",
    "do array que são números negativos.\n",
    "'''\n",
    "from random import randint\n",
    "\n",
    "\n",
    "numeros = []\n",
    "for i in range(10):\n",
    "    numeros.append(randint(-20, 20))\n",
    "print(numeros)\n",
    "\n",
    "def verificarVetor(array):\n",
    "    cont = 0\n",
    "    for numero in array:\n",
    "        if numero < 0:\n",
    "            cont += 1\n",
    "    return cont\n",
    "contador = verificarVetor(numeros)\n",
    "print(contador)\n"
   ]
  },
  {
   "cell_type": "code",
   "execution_count": 46,
   "metadata": {},
   "outputs": [
    {
     "name": "stdout",
     "output_type": "stream",
     "text": [
      "6 aparece 1 vezes\n"
     ]
    }
   ],
   "source": [
    "''' \n",
    "12 - Crie um método que recebe um array de inteiros A e um valor inteiro X e retorna a\n",
    "quantidade de vezes que X aparece no array A\n",
    "\n",
    "'''\n",
    "\n",
    "A = []\n",
    "\n",
    "for i in range(20):\n",
    "    A.append(randint(1, 10))\n",
    "\n",
    "def metodoArray(array, x):\n",
    "    vezes = 0\n",
    "    for elemento in array:\n",
    "        if x == elemento:\n",
    "            vezes += 1\n",
    "    return vezes\n",
    "\n",
    "X = int(input('Digite um número entre 1 - 10'))\n",
    "\n",
    "print(X ,'aparece', metodoArray(A, X), 'vezes')\n"
   ]
  },
  {
   "cell_type": "code",
   "execution_count": 65,
   "metadata": {},
   "outputs": [
    {
     "name": "stdout",
     "output_type": "stream",
     "text": [
      "[26, 63, 88, 96, 65, 7, 74, 30, 46, 78, 12, 7, 89, 20, 94, 78, 84, 45, 32, 58]\n",
      "3\n"
     ]
    }
   ],
   "source": [
    "''' \n",
    "13. Escreva um método que recebe um array de números e devolve a posição onde se\n",
    "encontra o maior valor do array. Se houver mais de um valor maior, devolver a posição da primeira\n",
    "ocorrência\n",
    "'''\n",
    "\n",
    "from dataclasses import asdict\n",
    "from socket import ALG_SET_AEAD_ASSOCLEN\n",
    "\n",
    "\n",
    "numeros = []\n",
    "for i in range(20):\n",
    "    numeros.append(randint(1, 100))\n",
    "\n",
    "def rebNum(lista):\n",
    "    print(lista)\n",
    "\n",
    "    for index in range(len(lista)):\n",
    "        if lista[index] == max(lista):\n",
    "            return index     \n",
    "\n",
    "print(rebNum(numeros))\n"
   ]
  },
  {
   "cell_type": "code",
   "execution_count": 63,
   "metadata": {},
   "outputs": [
    {
     "name": "stdout",
     "output_type": "stream",
     "text": [
      "0 97\n",
      "1 28\n",
      "2 62\n",
      "3 79\n",
      "4 66\n",
      "5 49\n",
      "6 66\n",
      "7 20\n",
      "8 33\n",
      "9 81\n",
      "10 20\n",
      "11 34\n",
      "12 39\n",
      "13 3\n",
      "14 29\n",
      "15 94\n",
      "16 16\n",
      "17 97\n",
      "18 4\n",
      "19 23\n"
     ]
    }
   ],
   "source": [
    "lista = []\n",
    "for i in range(20):\n",
    "    lista.append(randint(1, 100))\n",
    "#print(numeros)\n",
    "\n",
    "elemento = lista[1]\n",
    "elemento = \"ashduasuhd\"\n",
    "\n",
    "for item in lista:\n",
    "    #print(item) \n",
    "    pass\n",
    "\n",
    "for index in range(len(lista)):\n",
    "   #  print(index, lista[index])\n",
    "   pass\n",
    "\n",
    "for index, item in enumerate(lista):\n",
    "    print(index, item)\n",
    "\n",
    "    # Alterar \n",
    "    # lista[indice]"
   ]
  },
  {
   "cell_type": "code",
   "execution_count": 81,
   "metadata": {},
   "outputs": [
    {
     "name": "stdout",
     "output_type": "stream",
     "text": [
      "[2, 3, 3, 9, 9, 18, 26, 30, 34, 41]\n",
      "[1, -1, -1, -1, -1, 1, 1, 1, 1, -1]\n"
     ]
    },
    {
     "data": {
      "text/plain": [
       "' \\n    lista = [askdl, asdkl, aiuwe, asudo]\\n    lista[indice] = novo valor\\n\\n'"
      ]
     },
     "execution_count": 81,
     "metadata": {},
     "output_type": "execute_result"
    }
   ],
   "source": [
    "'''\n",
    "14. Crie um método que recebe um array de inteiros positivos \n",
    "e substituir seus elementos de valor ímpar por -1 e os pares por +1.\n",
    "'''\n",
    "vetor = []\n",
    "for i in range(10):\n",
    "    vetor.append(randint(1, 50))\n",
    "vetor.sort()\n",
    "\n",
    "def recebeArray(array):\n",
    "    print(array)\n",
    "    for indice in range(len(array)):\n",
    "        if array[indice] % 2 == 0:\n",
    "            array[indice] = 1\n",
    "        else:\n",
    "            array[indice] = -1\n",
    "    print(array)\n",
    "\n",
    "recebeArray(vetor)\n",
    "''' \n",
    "    lista = [askdl, asdkl, aiuwe, asudo]\n",
    "    lista[indice] = novo valor\n",
    "\n",
    "'''"
   ]
  },
  {
   "cell_type": "code",
   "execution_count": 88,
   "metadata": {},
   "outputs": [
    {
     "name": "stdout",
     "output_type": "stream",
     "text": [
      "[1.5, 1.8, 3.9, 4.0, 4.5, 4.5, 5.5, 5.8, 6.5, 6.9, 6.9, 7.9, 8.2, 8.5, 8.9, 9.3, 9.4, 9.6, 9.7, 9.8]\n",
      "133.1\n",
      "20\n",
      "6.654999999999999\n",
      "1.5\n",
      "1.8\n",
      "3.9\n",
      "4.0\n",
      "4.5\n",
      "4.5\n",
      "5.5\n",
      "5.8\n",
      "6.5\n"
     ]
    }
   ],
   "source": [
    "''' \n",
    "15.\tEscrever um programa que lê 20 números reais e armazena esses valores em um array. \n",
    "O programa deve calcular a média aritmética dos valores do vetor \n",
    "e imprimir todos os valores menores do que a média calculada. \n",
    "'''\n",
    "\n",
    "lista = []\n",
    "for i in range(20):\n",
    "    lista.append(round(random.uniform(1.0, 10.0), 1))\n",
    "lista.sort()\n",
    "print(lista)\n",
    "\n",
    "for i in lista:\n",
    "    pass\n",
    "\n",
    "print(sum(lista))\n",
    "print(len(lista))\n",
    "print(sum(lista) / len(lista))\n",
    "media = sum(lista) / len(lista)\n",
    "\n",
    "for i in lista:\n",
    "    if i < media :\n",
    "        print(i)"
   ]
  },
  {
   "cell_type": "code",
   "execution_count": 115,
   "metadata": {},
   "outputs": [
    {
     "name": "stdout",
     "output_type": "stream",
     "text": [
      "[1.4, 1.7, 2.0, 2.4, 2.6, 3.0, 3.2, 3.3, 4.6, 4.8, 4.8, 5.1, 5.6, 5.6, 6.5, 6.9, 8.0, 8.0, 8.1, 9.0]\n",
      "4.83\n",
      "4.83\n",
      "4.83\n"
     ]
    }
   ],
   "source": [
    "''' \n",
    "15.\tEscrever um programa que lê 20 números reais e armazena esses valores em um array. \n",
    "O programa deve calcular a média aritmética dos valores do vetor \n",
    "e imprimir todos os valores menores do que a média calculada. \n",
    "'''\n",
    "\n",
    "from statistics import mean\n",
    "\n",
    "lista = []\n",
    "for i in range(20):\n",
    "    lista.append(round(random.uniform(1.0, 10.0), 1))\n",
    "lista.sort()\n",
    "print(lista)\n",
    "\n",
    "me = sum(lista) / len(lista)\n",
    "print(me)\n",
    "\n",
    "media = mean(lista)\n",
    "print(media)\n",
    "\n",
    "total = 0\n",
    "contador = 0\n",
    "for i in lista:\n",
    "    total += i\n",
    "    contador += 1\n",
    "med = total / contador\n",
    "print(med)\n"
   ]
  },
  {
   "cell_type": "code",
   "execution_count": 24,
   "metadata": {},
   "outputs": [
    {
     "name": "stdout",
     "output_type": "stream",
     "text": [
      "[{'nome': 'gab', 'nota': 10}, {'nome': 'say', 'nota': 9}, {'nome': 'ken', 'nota': 7}, {'nome': 'mat', 'nota': 6}, {'nome': 'davi', 'nota': 6}, {'nome': 'akio', 'nota': 7}]\n",
      "gab\n",
      "gab\n",
      "10\n"
     ]
    }
   ],
   "source": [
    "''' \n",
    "16. Faça um programa que leia nomes de alunos e suas respectivas notas\n",
    "até que o nome ’oooo’ seja informado, \n",
    "após o fim da leitura, imprima o nome do aluno que possui a maior nota. \n",
    "Obs.: Use dicionário para resolver essa questão.\n",
    "\n",
    "    nome: tal\n",
    "    nota: tal\n",
    "\n",
    "    nome: oooo\n",
    "    nota\n",
    "'''\n",
    "from random import *\n",
    "turma = []\n",
    "\n",
    "while(True):\n",
    "    aluno = {}\n",
    "    nome = input('Digite o nome do aluno: ')\n",
    "    if nome == 'oooo':\n",
    "        break\n",
    "    else:\n",
    "        nota = randint(5, 10) # float(input('Digite a nota do aluno'))\n",
    "        aluno['nome'] = nome\n",
    "        aluno['nota'] = nota\n",
    "        turma.append(aluno)\n",
    "\n",
    "print(turma)\n",
    "\n",
    "def verificaMaiorNota():\n",
    "    maiorNota = -1 #[ 7, 9, 6, 6, 10, 6]\n",
    "    alunoMaiorNota = ''\n",
    "    for aluno in turma:\n",
    "        if aluno['nota'] > maiorNota:\n",
    "            maiorNota = aluno['nota'] # 10\n",
    "            alunoMaiorNota = aluno['nome'] # may\n",
    "    print(alunoMaiorNota)\n",
    "    print(maiorNota)\n",
    "\n",
    "    maior = -1\n",
    "    indice = -1\n",
    "    for i, aluno in enumerate(turma):\n",
    "        if aluno['nota'] > maior:\n",
    "            maior = aluno['nota'] # 10\n",
    "            indice = i\n",
    "    print(turma[indice]['nome'])\n",
    "    print(turma[indice]['nota'])\n",
    "verificaMaiorNota()\n"
   ]
  },
  {
   "cell_type": "code",
   "execution_count": 45,
   "metadata": {},
   "outputs": [
    {
     "name": "stdout",
     "output_type": "stream",
     "text": [
      "Voto INVÁLIDO\n",
      "Voto INVÁLIDO\n",
      "Voto INVÁLIDO\n",
      "Votação Encerrada\n",
      "[4, 6, 5, 3, 3, 3]\n",
      "24\n",
      "Sistema Operacional     Votos   %\n",
      "Windows Server 4  16.7 %\n",
      "Unix      6  25.0 %\n",
      "Linux      5  20.8 %\n",
      "Netware     3  12.5 %\n",
      "Mac os      3  12.5 %\n",
      "Outros       3  12.5 %\n",
      "Total             24 \n"
     ]
    }
   ],
   "source": [
    "''' \n",
    "17. Uma empresa de pesquisas precisa tabular os resultados da seguinte enquete feita a um grande quantidade de organizações:\n",
    "\"Qual o melhor Sistema Operacional para uso em servidores?\"\n",
    "\n",
    "As possíveis respostas são:\n",
    "1- Windows Server\n",
    "2- Unix\n",
    "3- Linux\n",
    "4- Netware\n",
    "5- Mac OS\n",
    "6- Outro\n",
    "Você foi contratado para desenvolver um programa que leia o resultado da enquete e informe ao final o resultado da mesma.\n",
    "O programa deverá:\n",
    "\n",
    "ler os valores até ser informado o valor 0, que encerra a entrada dos dados. \n",
    "Não deverão ser aceitos valores além dos válidos para o programa (0 a 6). \n",
    "Os valores referentes a cada uma das opções devem ser armazenados num vetor. \n",
    "\n",
    "Após os dados terem sido completamente informados,o programa deverá calcular a percentual de cada um dos concorrentes \n",
    "e informar o vencedor da enquete. \n",
    "\n",
    "                                        O formato da saída foi dado pela empresa, e é o seguinte:\n",
    "\n",
    "                                                    Sistema Operacional     Votos   %\n",
    "                                                    -------------------     -----   ---\n",
    "                                                    Windows Server           1500   17%\n",
    "                                                    Unix                     3500   40%\n",
    "                                                    Linux                    3000   34%\n",
    "                                                    Netware                   500    5%\n",
    "                                                    Mac OS                    150    2%\n",
    "                                                    Outro                     150    2%\n",
    "                                                    -------------------     -----\n",
    "                                                    Total                    8800\n",
    "\n",
    "O Sistema Operacional mais votado foi o Unix, com 3500 votos, correspondendo a 40% dos votos.\n",
    "\n",
    "'''\n",
    "sistemas = ['Windows Server', 'Unix     ', 'Linux     ', 'Netware    ', 'Mac os     ', 'Outros      ']\n",
    "votos = [0, 0, 0, 0, 0, 0]\n",
    "while(True):\n",
    "    voto = int(input('1 - Windows Server. 2 - Unix. 3 - Linux. 4 - Netware. 5 - Mac OS. 6 - Outro. 0 - SAIR'))\n",
    "    if voto == 0:\n",
    "        print('Votação Encerrada')\n",
    "        break\n",
    "    elif 6>= voto >= 1:\n",
    "        votos[voto-1] += 1 \n",
    "        pass\n",
    "    else:\n",
    "        print('Voto INVÁLIDO')\n",
    "\n",
    "    #  parte / todo\n",
    "\n",
    "\n",
    "def verificacao():\n",
    "    print(sum(votos))\n",
    "    print('Sistema Operacional     Votos   %')\n",
    "    for i, valor in enumerate(votos):\n",
    "        print(f'{sistemas[i]} {valor}  {round((valor / sum(votos)) * 100, 1)} %')\n",
    "    print(f'Total             {sum(votos)} ')\n",
    "print(votos)\n",
    "verificacao()"
   ]
  },
  {
   "cell_type": "code",
   "execution_count": 94,
   "metadata": {},
   "outputs": [
    {
     "name": "stdout",
     "output_type": "stream",
     "text": [
      "1593\n",
      " Nota 1: 3.94\n",
      " Nota 2: 2.71\n",
      " Nota 3: 5.03\n",
      " ME: 9.71\n",
      " MA: 4.88\n",
      " D\n",
      "REPROVADO\n"
     ]
    },
    {
     "data": {
      "text/plain": [
       "' \\nMédia de aproveitamento Conceito  \\n        >= 90 A\\n        >= 75 e < 90 B\\n        >= 60 e < 75 C\\n        >= 40 e < 60 D\\n        < 40 E \\n'"
      ]
     },
     "execution_count": 94,
     "metadata": {},
     "output_type": "execute_result"
    }
   ],
   "source": [
    "''' \n",
    "5. Escreva um algoritmo que leia o número de identificação, as 3 notas obtidas por um aluno nas\n",
    "3 verificações e a média dos exercícios que fazem parte da avaliação, \n",
    "\n",
    "e calcule a média de aproveitamento, usando a fórmula:\n",
    "MA := (nota1 + nota 2 * 2 + nota 3 * 3 + ME)/7\n",
    "\n",
    "A atribuição dos conceitos obedece a tabela abaixo. \n",
    "\n",
    "O algoritmo deve escrever o número do aluno, suas notas, a média dos exercícios, a média de aproveitamento, o conceito correspondente \n",
    "\n",
    "e a mensagem 'Aprovado' se o conceito for A, B ou C, e 'Reprovado' se o conceito for D ou E.\n",
    "        \n",
    "\n",
    "numeroIdent\n",
    "nota1\n",
    "nota2\n",
    "nota3\n",
    "me\n",
    "'''\n",
    "\n",
    "from abc import abstractclassmethod\n",
    "import random\n",
    "identificacao = input('Digite a identificação do aluno')\n",
    "nota1 = round(random.uniform(2.0, 10), 2)#float(input('Digite a nota 1 do aluno'))\n",
    "nota2 = round(random.uniform(2.0, 10), 2)#float(input('Digite a nota 2 do aluno'))\n",
    "nota3 = round(random.uniform(2.0, 10), 2)#float(input('Digite a nota 3 do aluno'))\n",
    "me = round(random.uniform(2.0, 10), 2)#float(input('Digite a média dos exercícios do aluno'))\n",
    "# MA := (nota1 + nota 2 * 2 + nota 3 * 3 + ME)/7\n",
    "ma = round((nota1 + (nota2 * 2) + (nota3 * 3) + me) / 7, 2)\n",
    "\n",
    "\n",
    "print(identificacao)\n",
    "print(f' Nota 1: {nota1}')\n",
    "print(f' Nota 2: {nota2}')\n",
    "print(f' Nota 3: {nota3}')\n",
    "print(f' ME: {me}')\n",
    "print(f' MA: {ma}')\n",
    "\n",
    "\n",
    "if ma >= 6:\n",
    "    if ma >= 9:\n",
    "        print(' A')\n",
    "    elif ma >= 7.5:\n",
    "        print(' B')\n",
    "    else:\n",
    "        print(' C')\n",
    "\n",
    "    print('APROVADO')\n",
    "else:\n",
    "    if ma >= 4:\n",
    "        print(' D')\n",
    "    else:\n",
    "        print(' E')\n",
    "        \n",
    "    print('REPROVADO')\n",
    "\n",
    "''' \n",
    "Média de aproveitamento Conceito  \n",
    "        >= 90 A\n",
    "        >= 75 e < 90 B\n",
    "        >= 60 e < 75 C\n",
    "        >= 40 e < 60 D\n",
    "        < 40 E \n",
    "'''\n",
    "\n",
    "\n",
    "\n"
   ]
  }
 ],
 "metadata": {
  "kernelspec": {
   "display_name": "Python 3.10.7 64-bit",
   "language": "python",
   "name": "python3"
  },
  "language_info": {
   "codemirror_mode": {
    "name": "ipython",
    "version": 3
   },
   "file_extension": ".py",
   "mimetype": "text/x-python",
   "name": "python",
   "nbconvert_exporter": "python",
   "pygments_lexer": "ipython3",
   "version": "3.10.7"
  },
  "orig_nbformat": 4,
  "vscode": {
   "interpreter": {
    "hash": "b1be5a1e9e85905d3e4e97ef1b769f5caa870a8a58c9f9e0ae488b6f0a0e1baf"
   }
  }
 },
 "nbformat": 4,
 "nbformat_minor": 2
}
