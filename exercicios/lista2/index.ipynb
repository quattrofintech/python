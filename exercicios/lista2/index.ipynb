{
 "cells": [
  {
   "cell_type": "code",
   "execution_count": 2,
   "metadata": {},
   "outputs": [
    {
     "name": "stdout",
     "output_type": "stream",
     "text": [
      "A soma é menor que C\n"
     ]
    }
   ],
   "source": [
    "'''  \n",
    "1. Faça um algoritmo que leia os valores A, B, C e imprima na tela se a soma de A + B é menor\n",
    "que C. \n",
    "'''\n",
    "\n",
    "a = int(input('Digite o valor de A'))\n",
    "b = int(input('Digite o valor de B'))\n",
    "c = int(input('Digite o valor de C'))\n",
    "\n",
    "#soma = a + b\n",
    "\n",
    "if((a + b) < c):\n",
    "    print(f'A soma é menor que C') \n",
    "\n"
   ]
  },
  {
   "cell_type": "code",
   "execution_count": 4,
   "metadata": {},
   "outputs": [
    {
     "name": "stdout",
     "output_type": "stream",
     "text": [
      "-15\n"
     ]
    }
   ],
   "source": [
    "''' \n",
    "2. Encontrar o dobro de um número caso ele seja positivo e o seu triplo caso seja negativo,\n",
    "imprimindo o resultado\n",
    "'''\n",
    "x = int(input('Digite o valor de X'))\n",
    "if x >= 0:\n",
    "    print(f'{x * 2}')\n",
    "else:\n",
    "    print(f'{x * 3}')\n"
   ]
  },
  {
   "cell_type": "code",
   "execution_count": 27,
   "metadata": {},
   "outputs": [
    {
     "name": "stdout",
     "output_type": "stream",
     "text": [
      "Ambos são FALSOS\n"
     ]
    }
   ],
   "source": [
    "''' \n",
    "3. Escreva um algoritmo que lê dois valores booleanos (lógicos) e então determina se ambos são\n",
    "VERDADEIROS ou FALSOS. ( True / False )\n",
    "'''\n",
    "x = input('Digite um valor booleano: ') # 0 - False, 1 - Verdadeiro\n",
    "y = input('Digite um valor booleano: ')\n",
    "\n",
    "if x == 'True' and y == 'True':\n",
    "    print('Ambos são VERDADEIROS')\n",
    "elif x == \"False\" and y == \"False\":\n",
    "    print('Ambos são FALSOS')\n",
    "else:\n",
    "    print('São DIFERENTES')\n",
    "\n",
    "\n"
   ]
  },
  {
   "cell_type": "code",
   "execution_count": 29,
   "metadata": {},
   "outputs": [
    {
     "name": "stdout",
     "output_type": "stream",
     "text": [
      " 95 - 50 - 18 \n"
     ]
    }
   ],
   "source": [
    "''' \n",
    "4. Escreva um algoritmo que leia três valores inteiros e diferentes e mostre-os em ordem\n",
    "decrescente. \n",
    "'''\n",
    "\n",
    "a = int(input('Digite um número INTEIRO '))\n",
    "b = int(input('Digite um número INTEIRO '))\n",
    "c = int(input('Digite um número INTEIRO '))\n",
    "\n",
    "if a > b and a > c: # A é o maior \n",
    "    if b > c:\n",
    "        print(f' {a} - {b} - {c} ')\n",
    "    else:\n",
    "        print(f' {a} - {c} - {b} ')\n",
    "elif b > a and b > c: # B é o maior \n",
    "    if a > c:\n",
    "        print(f' {b} - {a} - {c} ')\n",
    "    else:\n",
    "        print(f' {b} - {c} - {a} ')\n",
    "else: # C é o maior\n",
    "    if a > b:\n",
    "        print(f' {c} - {a} - {b} ')\n",
    "    else:\n",
    "        print(f' {c} - {b} - {a} ')\n"
   ]
  },
  {
   "cell_type": "code",
   "execution_count": 35,
   "metadata": {},
   "outputs": [
    {
     "name": "stdout",
     "output_type": "stream",
     "text": [
      "[100, 84, 59]\n",
      "[100, 84, 59]\n"
     ]
    }
   ],
   "source": [
    "num = []\n",
    "for i in range(3):\n",
    "    num.append(int(input('Digite um número: ')))\n",
    "num.sort(reverse=True)\n",
    "print(num)\n",
    "\n",
    "print(sorted(num, reverse=True))"
   ]
  },
  {
   "cell_type": "code",
   "execution_count": 60,
   "metadata": {},
   "outputs": [
    {
     "name": "stdout",
     "output_type": "stream",
     "text": [
      "Categoria: JUVENIL B\n"
     ]
    },
    {
     "data": {
      "text/plain": [
       "\" if idade > 18:\\n    print('Categoria: SÊNIOR')\\nelif idade >= 14:\\n    print('Categoria: JUVENIL B')\\nelif idade >= 11:\\n    print('Categoria: JUVENIL A')\\nelif idade >= 8:\\n    print('Categoria: INFANTIL B')\\nelif idade >= 5 :\\n    print('Categoria: INFANTIL A')\""
      ]
     },
     "execution_count": 60,
     "metadata": {},
     "output_type": "execute_result"
    }
   ],
   "source": [
    "''' \n",
    "6. A confederação brasileira de natação irá promover eliminatórias para o próximo\n",
    "mundial. Fazer um algoritmo que receba a idade de um nadador e\n",
    "determine (imprima) a sua categoria segundo a tabela a seguir:  \n",
    "                Categoria \tIdade  \n",
    "                Infantil A \t5 – 7 anos  \n",
    "                Infantil B \t8 – 10 anos  \n",
    "                Juvenil A \t11 – 13 anos  \n",
    "                Juvenil B \t14 – 17 anos\n",
    "                Sênior Maiores de 18 anos \n",
    "'''\n",
    "idade = int(input('Digite a idade do NADADOR '))\n",
    "if 7 >= idade >= 5:\n",
    "    print('Categoria: INFANTIL A')\n",
    "elif 10 >= idade >= 8:\n",
    "    print('Categoria: INFANTIL B')\n",
    "elif 13 >= idade >= 11:\n",
    "    print('Categoria: JUVENIL A')\n",
    "elif 17 >= idade >= 14:\n",
    "    print('Categoria: JUVENIL B')\n",
    "elif idade >= 18:\n",
    "    print('Categoria: SÊNIOR')\n",
    "\n",
    "\n",
    "''' if idade > 18:\n",
    "    print('Categoria: SÊNIOR')\n",
    "elif idade >= 14:\n",
    "    print('Categoria: JUVENIL B')\n",
    "elif idade >= 11:\n",
    "    print('Categoria: JUVENIL A')\n",
    "elif idade >= 8:\n",
    "    print('Categoria: INFANTIL B')\n",
    "elif idade >= 5 :\n",
    "    print('Categoria: INFANTIL A')''' "
   ]
  },
  {
   "cell_type": "code",
   "execution_count": null,
   "metadata": {},
   "outputs": [],
   "source": []
  },
  {
   "cell_type": "code",
   "execution_count": 79,
   "metadata": {},
   "outputs": [
    {
     "name": "stdout",
     "output_type": "stream",
     "text": [
      "f(x) = 2.0\n"
     ]
    }
   ],
   "source": [
    "''' \n",
    "7. Criar um algoritmo que receba o valor de x, e calcule e imprima o\n",
    "valor de f(x).\n",
    "\tf(x)= 8 / (2 - x)\n",
    "'''\n",
    "\n",
    "try:\n",
    "\tx = int(input('Digite um valor: '))\n",
    "\tfx = 8 / (2 - x)\n",
    "except ValueError:\n",
    "\tprint('O valor de X deve ser um numero natural')\n",
    "except ZeroDivisionError:\n",
    "\tprint('Resultado do Divisor não pode ser igual a 0')\n",
    "except Exception as error:\n",
    "\tprint(error.__class__)\n",
    "except:\n",
    "\tprint('Formula deu error')\n",
    "else:\n",
    "\tprint(f'f(x) = {round(fx, 2)}')"
   ]
  },
  {
   "cell_type": "code",
   "execution_count": 109,
   "metadata": {},
   "outputs": [
    {
     "name": "stdout",
     "output_type": "stream",
     "text": [
      "Não existe dia da semana com esse número\n"
     ]
    }
   ],
   "source": [
    "''' \n",
    "8. Criar um algoritmo em Python que leia o um número inteiro entre 1 e 7 e\n",
    "escreva o dia da semana correspondente. Caso o usuário digite um número fora desse\n",
    "intervalo, deverá aparecer uma mensagem informando que não existe dia da semana\n",
    "com esse número. \n",
    "''' \n",
    "\n",
    "dia = int(input('Digite um valor inteiro 1 - 7: '))\n",
    "semana = ['Domingo', 'Segunda', 'Terça', 'Quarta', 'Quinta', 'Sexta', 'Sábado']\n",
    "if dia > 7 or dia < 1:\n",
    "    print('Não existe dia da semana com esse número')\n",
    "else:\n",
    "    print(semana[dia-1])\n",
    "\n",
    "''' if 7 >= dia >= 1:\n",
    "    if dia == 1:\n",
    "        print('Domingo')\n",
    "    elif dia == 2:\n",
    "        print('Segunda')\n",
    "    elif dia == 3:\n",
    "        print('Terça')\n",
    "    elif dia == 4:\n",
    "        print('Quarta')\n",
    "    elif dia == 5:\n",
    "        print('Quinta')\n",
    "    elif dia == 6:\n",
    "        print('Sexta')\n",
    "    else:\n",
    "        print('Sábado')\n",
    "else:\n",
    "    print('Não existe dia da semana com esse número')  '''\n",
    "\n",
    "\n",
    "\n"
   ]
  },
  {
   "cell_type": "code",
   "execution_count": 128,
   "metadata": {},
   "outputs": [
    {
     "name": "stdout",
     "output_type": "stream",
     "text": [
      "Não existe mês do ano com esse número\n"
     ]
    }
   ],
   "source": [
    "''' \n",
    "9. Criar um algoritmo em Pyhton que leia um número inteiro entre 1 e 12 e\n",
    "escrever o mês correspondente. Caso o usuário digite um número fora desse intervalo,\n",
    "deverá aparecer uma mensagem informando que não existe mês com este número. \n",
    "'''\n",
    "ano = ['jan', 'fev', 'mar', 'abr', 'mai', 'jun', 'jul', 'ago', 'set', 'out', 'nov', 'dez']\n",
    "mes = int(input('Digite um número entre 1 - 12'))\n",
    "try:\n",
    "    print(ano[mes - 1])\n",
    "except:\n",
    "    print('Não existe mês do ano com esse número')"
   ]
  }
 ],
 "metadata": {
  "kernelspec": {
   "display_name": "Python 3.10.7 64-bit",
   "language": "python",
   "name": "python3"
  },
  "language_info": {
   "codemirror_mode": {
    "name": "ipython",
    "version": 3
   },
   "file_extension": ".py",
   "mimetype": "text/x-python",
   "name": "python",
   "nbconvert_exporter": "python",
   "pygments_lexer": "ipython3",
   "version": "3.10.7"
  },
  "orig_nbformat": 4,
  "vscode": {
   "interpreter": {
    "hash": "b1be5a1e9e85905d3e4e97ef1b769f5caa870a8a58c9f9e0ae488b6f0a0e1baf"
   }
  }
 },
 "nbformat": 4,
 "nbformat_minor": 2
}
